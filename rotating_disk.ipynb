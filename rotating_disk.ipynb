{
 "cells": [
  {
   "cell_type": "markdown",
   "id": "27571fb6",
   "metadata": {},
   "source": [
    "<h1 style=\"text-align:center\">Rotating Disk Problem</h1>\n",
    "\n",
    "We consider the very important problem of determining the stresses in a thin solid disk of radius $b$, rotating with angular velocity $\\omega$. The thickness of the disk is very small compared to its radius and there is no load acting on the disk transversely. So, this disk may be considered to be under plane stress. We are going to work in the polar coordinate system. \n",
    "\n",
    "In general, we have the following strain-displacement relations: \n",
    "\\begin{align}\n",
    "\\varepsilon_{rr} &= \\dfrac{\\partial u_r}{\\partial r}, \\\\\n",
    "\\varepsilon_{\\theta\\theta} &= \\dfrac{1}{r} \\dfrac{\\partial u_\\theta}{\\partial \\theta} + \\dfrac{u_r}{r}, \\\\\n",
    "\\varepsilon_{r\\theta} &= \\dfrac{1}{2} \\left( \\dfrac{1}{r}\\dfrac{\\partial u_r}{\\partial \\theta} + \\dfrac{\\partial u_\\theta}{\\partial r} - \\dfrac{u_\\theta}{r} \\right). \n",
    "\\end{align}\n",
    "\n",
    "**Condition 1:** The situation is completely axisymmetric, i.e. the geometry is axisymmetric and the only loading on the disk is the one due to inertial forces acting uniformly in the radial direction. Therefore, we have $\\dfrac{\\partial ()}{\\partial \\theta} = 0$.\n",
    "\n",
    "**Condition 2:** Furthermore, there is no torsional loading on the disk. Therefore, there is nothing that can induce displacements in the angular direction. So, $u_\\theta = 0$. \n",
    "\n",
    "Using these Conditions 1 and 2, we obtain the following simiplified version of the strain-displacement relations:\n",
    "\\begin{align}\n",
    "\\varepsilon_{rr} &= \\dfrac{\\partial u_r}{\\partial r} = \\dfrac{{\\rm d} u_r}{{\\rm d} r}, \\\\\n",
    "\\varepsilon_{\\theta\\theta} &= \\dfrac{u_r}{r}, \\\\\n",
    "\\varepsilon_{r\\theta} &= 0. \n",
    "\\end{align}\n",
    "\n",
    "Note that since there is no dependence on $\\theta$, the $u_r$ is a pure function of $r$, and so the partial derivative becomes an ordinary derivative. \n",
    "\n",
    "Since we find $\\varepsilon_{r\\theta}$ to be zero, it follows immediately that $\\sigma_{r\\theta} = 2G \\varepsilon_{r\\theta} = 0$. \n",
    "\n",
    "For the case of plane stress that we have here, the stress-strain relations become (see [Problem Sheet 2](http://www.facweb.iitkgp.ac.in/~jeevanjyoti/teaching/advmechsolids/2023/ps/ps2_2D_elasticity_I.pdf)):\n",
    "\\begin{align}\n",
    "\\sigma_{rr} = \\dfrac{E}{1-\\nu^2} \\left(\\varepsilon_{rr} + \\nu \\varepsilon_{\\theta\\theta} \\right), \\\\\n",
    "\\sigma_{\\theta\\theta} = \\dfrac{E}{1-\\nu^2} \\left(\\varepsilon_{\\theta\\theta} + \\nu \\varepsilon_{rr} \\right).\n",
    "\\end{align}\n",
    "\n",
    "In this simplified scenario, the stress equilibrium equation in the $\\theta$-direction is trivially satisfied ($0=0$ form) while the one in the radial direction reduces to:\n",
    "\\begin{gather}\n",
    "\\dfrac{{\\rm d} \\sigma_{rr}}{{\\rm d r}} + \\dfrac{\\sigma_{rr} - \\sigma_{\\theta\\theta}}{r} + \\rho \\omega^2 r = 0,  \n",
    "\\end{gather}\n",
    "where the term $\\rho \\omega^2 r$ represents the inertial force due to rotation. \n",
    "\n",
    "The way we are going to solve this equation is to first substitute the stresses for the strains using the stress-strain relations, and then express the strains in terms of the displacement $u_r$ to obtain a final governing differential equation in terms of $u_r$. It is actually this $u_r$ that we are going to solve for. "
   ]
  },
  {
   "cell_type": "code",
   "execution_count": 1,
   "id": "89ea4873",
   "metadata": {},
   "outputs": [],
   "source": [
    "import sympy as sym\n",
    "\n",
    "r, theta = sym.symbols('r, theta')"
   ]
  },
  {
   "cell_type": "markdown",
   "id": "e8b66957",
   "metadata": {},
   "source": [
    "We depict the displacement $u_r$ (a pure function of r) as `u`. "
   ]
  },
  {
   "cell_type": "code",
   "execution_count": 2,
   "id": "78fed601",
   "metadata": {},
   "outputs": [
    {
     "data": {
      "text/latex": [
       "$\\displaystyle u{\\left(r \\right)}$"
      ],
      "text/plain": [
       "u(r)"
      ]
     },
     "metadata": {},
     "output_type": "display_data"
    }
   ],
   "source": [
    "u = sym.Function('u')(r)\n",
    "display(u)"
   ]
  },
  {
   "cell_type": "markdown",
   "id": "d2a7835a",
   "metadata": {},
   "source": [
    "The strain-displacement relations:"
   ]
  },
  {
   "cell_type": "code",
   "execution_count": 3,
   "id": "5784e691",
   "metadata": {},
   "outputs": [],
   "source": [
    "eprr = sym.diff(u, r)\n",
    "eptt = u/r"
   ]
  },
  {
   "cell_type": "code",
   "execution_count": 4,
   "id": "7c054b81",
   "metadata": {},
   "outputs": [],
   "source": [
    "E, nu = sym.symbols('E, nu', positive=True)\n",
    "rho, omega = sym.symbols('rho, omega')"
   ]
  },
  {
   "cell_type": "markdown",
   "id": "872c5448",
   "metadata": {},
   "source": [
    "The stress-strain relations under plane stress case:"
   ]
  },
  {
   "cell_type": "code",
   "execution_count": 5,
   "id": "7d759bf8",
   "metadata": {},
   "outputs": [
    {
     "data": {
      "text/latex": [
       "$\\displaystyle \\frac{E \\left(\\frac{\\nu u{\\left(r \\right)}}{r} + \\frac{d}{d r} u{\\left(r \\right)}\\right)}{1 - \\nu^{2}}$"
      ],
      "text/plain": [
       "E*(nu*u(r)/r + Derivative(u(r), r))/(1 - nu**2)"
      ]
     },
     "metadata": {},
     "output_type": "display_data"
    },
    {
     "data": {
      "text/latex": [
       "$\\displaystyle \\frac{E \\left(\\nu \\frac{d}{d r} u{\\left(r \\right)} + \\frac{u{\\left(r \\right)}}{r}\\right)}{1 - \\nu^{2}}$"
      ],
      "text/plain": [
       "E*(nu*Derivative(u(r), r) + u(r)/r)/(1 - nu**2)"
      ]
     },
     "metadata": {},
     "output_type": "display_data"
    }
   ],
   "source": [
    "sigmarr_ep = E/(1-nu**2)*(eprr + nu*eptt)\n",
    "sigmatt_ep = E/(1-nu**2)*(eptt + nu*eprr)\n",
    "display(sigmarr_ep, sigmatt_ep)"
   ]
  },
  {
   "cell_type": "markdown",
   "id": "3058a53e",
   "metadata": {},
   "source": [
    "Setting up the differential equation:"
   ]
  },
  {
   "cell_type": "code",
   "execution_count": 6,
   "id": "74c6e14d",
   "metadata": {},
   "outputs": [
    {
     "data": {
      "text/latex": [
       "$\\displaystyle \\frac{E \\left(- r^{2} \\frac{d^{2}}{d r^{2}} u{\\left(r \\right)} - r \\frac{d}{d r} u{\\left(r \\right)} + u{\\left(r \\right)}\\right)}{r^{2} \\left(\\nu^{2} - 1\\right)} = - \\omega^{2} r \\rho$"
      ],
      "text/plain": [
       "Eq(E*(-r**2*Derivative(u(r), (r, 2)) - r*Derivative(u(r), r) + u(r))/(r**2*(nu**2 - 1)), -omega**2*r*rho)"
      ]
     },
     "metadata": {},
     "output_type": "display_data"
    }
   ],
   "source": [
    "lhs = (sym.diff(sigmarr_ep,r) + 1/r*(sigmarr_ep - sigmatt_ep)).simplify()\n",
    "rhs = -rho*omega**2*r\n",
    "eq = sym.Eq(lhs,rhs)\n",
    "display(eq)"
   ]
  },
  {
   "cell_type": "code",
   "execution_count": 7,
   "id": "bc51a576",
   "metadata": {},
   "outputs": [
    {
     "data": {
      "text/latex": [
       "$\\displaystyle \\frac{C_{1}}{r} + C_{2} r + \\frac{\\nu^{2} \\omega^{2} r^{3} \\rho}{8 E} - \\frac{\\omega^{2} r^{3} \\rho}{8 E}$"
      ],
      "text/plain": [
       "C1/r + C2*r + nu**2*omega**2*r**3*rho/(8*E) - omega**2*r**3*rho/(8*E)"
      ]
     },
     "metadata": {},
     "output_type": "display_data"
    }
   ],
   "source": [
    "dsoln = sym.dsolve(eq).simplify().expand()\n",
    "usoln = dsoln.rhs\n",
    "display(usoln)"
   ]
  },
  {
   "cell_type": "markdown",
   "id": "92fe7964",
   "metadata": {},
   "source": [
    "For a solid disk, one of the boundary conditions is that at $r=0$, we must have $u_r = 0$. In order to ensure this, we must have $C_1 = 0$. \n",
    "\n",
    "However, although SymPy \"shows\" us C1 and C2, we have to \"define\" these symbols explicitly in order to be able to work with them. "
   ]
  },
  {
   "cell_type": "code",
   "execution_count": 8,
   "id": "124457a3",
   "metadata": {},
   "outputs": [],
   "source": [
    "C1, C2 = sym.symbols('C1, C2')"
   ]
  },
  {
   "cell_type": "code",
   "execution_count": 9,
   "id": "06c3c3a2",
   "metadata": {},
   "outputs": [
    {
     "data": {
      "text/latex": [
       "$\\displaystyle C_{2} r + \\frac{\\nu^{2} \\omega^{2} r^{3} \\rho}{8 E} - \\frac{\\omega^{2} r^{3} \\rho}{8 E}$"
      ],
      "text/plain": [
       "C2*r + nu**2*omega**2*r**3*rho/(8*E) - omega**2*r**3*rho/(8*E)"
      ]
     },
     "metadata": {},
     "output_type": "display_data"
    }
   ],
   "source": [
    "usoln_mod = usoln.subs(C1,0)\n",
    "display(usoln_mod)"
   ]
  },
  {
   "cell_type": "code",
   "execution_count": 10,
   "id": "5af38f8c",
   "metadata": {},
   "outputs": [
    {
     "data": {
      "text/latex": [
       "$\\displaystyle - \\frac{C_{2} E \\nu}{\\nu^{2} - 1} - \\frac{C_{2} E}{\\nu^{2} - 1} - \\frac{\\nu^{3} \\omega^{2} r^{2} \\rho}{8 \\nu^{2} - 8} - \\frac{3 \\nu^{2} \\omega^{2} r^{2} \\rho}{8 \\nu^{2} - 8} + \\frac{\\nu \\omega^{2} r^{2} \\rho}{8 \\nu^{2} - 8} + \\frac{3 \\omega^{2} r^{2} \\rho}{8 \\nu^{2} - 8}$"
      ],
      "text/plain": [
       "-C2*E*nu/(nu**2 - 1) - C2*E/(nu**2 - 1) - nu**3*omega**2*r**2*rho/(8*nu**2 - 8) - 3*nu**2*omega**2*r**2*rho/(8*nu**2 - 8) + nu*omega**2*r**2*rho/(8*nu**2 - 8) + 3*omega**2*r**2*rho/(8*nu**2 - 8)"
      ]
     },
     "metadata": {},
     "output_type": "display_data"
    },
    {
     "data": {
      "text/latex": [
       "$\\displaystyle - \\frac{C_{2} E \\nu}{\\nu^{2} - 1} - \\frac{C_{2} E}{\\nu^{2} - 1} - \\frac{3 \\nu^{3} \\omega^{2} r^{2} \\rho}{8 \\nu^{2} - 8} - \\frac{\\nu^{2} \\omega^{2} r^{2} \\rho}{8 \\nu^{2} - 8} + \\frac{3 \\nu \\omega^{2} r^{2} \\rho}{8 \\nu^{2} - 8} + \\frac{\\omega^{2} r^{2} \\rho}{8 \\nu^{2} - 8}$"
      ],
      "text/plain": [
       "-C2*E*nu/(nu**2 - 1) - C2*E/(nu**2 - 1) - 3*nu**3*omega**2*r**2*rho/(8*nu**2 - 8) - nu**2*omega**2*r**2*rho/(8*nu**2 - 8) + 3*nu*omega**2*r**2*rho/(8*nu**2 - 8) + omega**2*r**2*rho/(8*nu**2 - 8)"
      ]
     },
     "metadata": {},
     "output_type": "display_data"
    }
   ],
   "source": [
    "sigmarr_soln = sigmarr_ep.subs(u,usoln_mod).simplify().expand()\n",
    "sigmatt_soln = sigmatt_ep.subs(u,usoln_mod).simplify().expand()\n",
    "\n",
    "display(sigmarr_soln, sigmatt_soln)"
   ]
  },
  {
   "cell_type": "markdown",
   "id": "3cbd2ffd",
   "metadata": {},
   "source": [
    "The other boundary condition is that at the outer periphery $r=b$, we have the zero traction boundary condition, which implies that $\\sigma_{rr} = 0$ and $\\sigma_{r\\theta} = 0$. Now, we have already seen that $\\sigma_{r\\theta} = 0$ identically for all $r$. Therefore, we just need to ensure that $\\sigma_{rr} = 0$ at $r=b$. "
   ]
  },
  {
   "cell_type": "code",
   "execution_count": 11,
   "id": "14fb654d",
   "metadata": {},
   "outputs": [],
   "source": [
    "b = sym.symbols('b', positive=True)"
   ]
  },
  {
   "cell_type": "code",
   "execution_count": 12,
   "id": "4ddb592e",
   "metadata": {},
   "outputs": [
    {
     "data": {
      "text/latex": [
       "$\\displaystyle - \\frac{C_{2} E \\nu}{\\nu^{2} - 1} - \\frac{C_{2} E}{\\nu^{2} - 1} - \\frac{b^{2} \\nu^{3} \\omega^{2} \\rho}{8 \\nu^{2} - 8} - \\frac{3 b^{2} \\nu^{2} \\omega^{2} \\rho}{8 \\nu^{2} - 8} + \\frac{b^{2} \\nu \\omega^{2} \\rho}{8 \\nu^{2} - 8} + \\frac{3 b^{2} \\omega^{2} \\rho}{8 \\nu^{2} - 8} = 0$"
      ],
      "text/plain": [
       "Eq(-C2*E*nu/(nu**2 - 1) - C2*E/(nu**2 - 1) - b**2*nu**3*omega**2*rho/(8*nu**2 - 8) - 3*b**2*nu**2*omega**2*rho/(8*nu**2 - 8) + b**2*nu*omega**2*rho/(8*nu**2 - 8) + 3*b**2*omega**2*rho/(8*nu**2 - 8), 0)"
      ]
     },
     "metadata": {},
     "output_type": "display_data"
    }
   ],
   "source": [
    "bc2 = sym.Eq(sigmarr_soln.subs(r,b),0)\n",
    "display(bc2)"
   ]
  },
  {
   "cell_type": "code",
   "execution_count": 13,
   "id": "ef6929c9",
   "metadata": {},
   "outputs": [
    {
     "data": {
      "text/plain": [
       "{C2: (-b**2*nu**2*omega**2*rho - 2*b**2*nu*omega**2*rho + 3*b**2*omega**2*rho)/(8*E)}"
      ]
     },
     "metadata": {},
     "output_type": "display_data"
    }
   ],
   "source": [
    "soln = sym.solve([bc2],[C2])\n",
    "display(soln)"
   ]
  },
  {
   "cell_type": "code",
   "execution_count": 14,
   "id": "abe0cb2b",
   "metadata": {},
   "outputs": [
    {
     "data": {
      "text/latex": [
       "$\\displaystyle - \\frac{\\omega^{2} \\rho \\left(- b + r\\right) \\left(b + r\\right) \\left(\\nu + 3\\right)}{8}$"
      ],
      "text/plain": [
       "-omega**2*rho*(-b + r)*(b + r)*(nu + 3)/8"
      ]
     },
     "metadata": {},
     "output_type": "display_data"
    },
    {
     "data": {
      "text/latex": [
       "$\\displaystyle \\frac{\\omega^{2} \\rho \\left(b^{2} \\nu + 3 b^{2} - 3 \\nu r^{2} - r^{2}\\right)}{8}$"
      ],
      "text/plain": [
       "omega**2*rho*(b**2*nu + 3*b**2 - 3*nu*r**2 - r**2)/8"
      ]
     },
     "metadata": {},
     "output_type": "display_data"
    }
   ],
   "source": [
    "sigmarr_soln_final = sigmarr_soln.subs(soln).simplify().factor()\n",
    "sigmatt_soln_final = sigmatt_soln.subs(soln).simplify()\n",
    "display(sigmarr_soln_final, sigmatt_soln_final)"
   ]
  },
  {
   "cell_type": "code",
   "execution_count": null,
   "id": "c85e5370",
   "metadata": {},
   "outputs": [],
   "source": []
  }
 ],
 "metadata": {
  "kernelspec": {
   "display_name": "Python 3 (ipykernel)",
   "language": "python",
   "name": "python3"
  },
  "language_info": {
   "codemirror_mode": {
    "name": "ipython",
    "version": 3
   },
   "file_extension": ".py",
   "mimetype": "text/x-python",
   "name": "python",
   "nbconvert_exporter": "python",
   "pygments_lexer": "ipython3",
   "version": "3.9.7"
  }
 },
 "nbformat": 4,
 "nbformat_minor": 5
}

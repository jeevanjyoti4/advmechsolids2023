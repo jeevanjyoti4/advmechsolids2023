{
 "cells": [
  {
   "cell_type": "markdown",
   "metadata": {},
   "source": [
    "# Bending of a curved bar by a force at the end\n",
    "\n",
    "<img src=\"curvedbar_horizontalload_snap.png\" width=\"150\"/>\n",
    "\n",
    "At an angle $\\theta$ from the loaded end, the horizontal load $P$ induces a moment proportional to $\\sin \\theta$. Since this bending moment is directly connected to $\\sigma_{\\theta\\theta}$, so it must be true that $\\sigma_{\\theta\\theta}$ must also be proportional to $\\sin \\theta$. Now, for any generic Airy stress function, we have the following form for $\\sigma_{\\theta\\theta}$:"
   ]
  },
  {
   "cell_type": "code",
   "execution_count": 1,
   "metadata": {},
   "outputs": [
    {
     "data": {
      "text/latex": [
       "$\\displaystyle \\frac{\\partial^{2}}{\\partial r^{2}} f{\\left(r,\\theta \\right)}$"
      ],
      "text/plain": [
       "Derivative(f(r, theta), (r, 2))"
      ]
     },
     "execution_count": 1,
     "metadata": {},
     "output_type": "execute_result"
    }
   ],
   "source": [
    "from polarUtilities import *\n",
    "from IPython.display import Math, Latex\n",
    "\n",
    "sigma_tt(f)"
   ]
  },
  {
   "cell_type": "markdown",
   "metadata": {},
   "source": [
    "Since the expression of $\\sigma_{\\theta\\theta}$ involves only the derivatives with respect to $r$, we can immediately conclude that the Airy stress function required to solve this problem must have the following form:"
   ]
  },
  {
   "cell_type": "code",
   "execution_count": 19,
   "metadata": {},
   "outputs": [
    {
     "data": {
      "text/latex": [
       "$\\displaystyle \\phi = g{\\left(r \\right)} \\sin{\\left(\\theta \\right)}$"
      ],
      "text/plain": [
       "<IPython.core.display.Math object>"
      ]
     },
     "metadata": {},
     "output_type": "display_data"
    }
   ],
   "source": [
    "g = sp.Function('g')(r)\n",
    "phi = g*sp.sin(theta)\n",
    "display(Math(r'\\phi = {}'.format(sp.latex(phi))))"
   ]
  },
  {
   "cell_type": "markdown",
   "metadata": {},
   "source": [
    "We now solve the biharmonic equation to obtain the solution for $g(r)$: "
   ]
  },
  {
   "cell_type": "code",
   "execution_count": 23,
   "metadata": {},
   "outputs": [
    {
     "data": {
      "text/latex": [
       "$\\displaystyle g{\\left(r \\right)} = \\frac{C_{1}}{r} + C_{2} r + C_{3} r^{3} + C_{4} r \\log{\\left(r \\right)}$"
      ],
      "text/plain": [
       "Eq(g(r), C1/r + C2*r + C3*r**3 + C4*r*log(r))"
      ]
     },
     "execution_count": 23,
     "metadata": {},
     "output_type": "execute_result"
    }
   ],
   "source": [
    "sp.dsolve(polarbiharmonic(phi))"
   ]
  },
  {
   "cell_type": "markdown",
   "metadata": {},
   "source": [
    "In order to have the same notation as in Timoshenko and Goodier, we write as follows:"
   ]
  },
  {
   "cell_type": "code",
   "execution_count": 24,
   "metadata": {},
   "outputs": [
    {
     "data": {
      "text/latex": [
       "$\\displaystyle \\phi = \\left(A r^{3} + \\frac{B}{r} + C r + D r \\log{\\left(r \\right)}\\right) \\sin{\\left(\\theta \\right)}$"
      ],
      "text/plain": [
       "<IPython.core.display.Math object>"
      ]
     },
     "metadata": {},
     "output_type": "display_data"
    }
   ],
   "source": [
    "A, B, C, D = sp.symbols('A, B, C, D')\n",
    "\n",
    "phi = (A*r**3 + B/r + C*r + D*r*sp.log(r))*sp.sin(theta)\n",
    "display(Math(r'\\phi = {}'.format(sp.latex(phi))))"
   ]
  },
  {
   "cell_type": "markdown",
   "metadata": {},
   "source": [
    "Then the stress components become:"
   ]
  },
  {
   "cell_type": "code",
   "execution_count": 27,
   "metadata": {},
   "outputs": [
    {
     "data": {
      "text/latex": [
       "$\\displaystyle \\sigma_{rr} = 2 A r \\sin{\\left(\\theta \\right)} - \\frac{2 B \\sin{\\left(\\theta \\right)}}{r^{3}} + \\frac{D \\sin{\\left(\\theta \\right)}}{r}$"
      ],
      "text/plain": [
       "<IPython.core.display.Math object>"
      ]
     },
     "metadata": {},
     "output_type": "display_data"
    },
    {
     "data": {
      "text/latex": [
       "$\\displaystyle \\sigma_{\\theta\\theta} = 6 A r \\sin{\\left(\\theta \\right)} + \\frac{2 B \\sin{\\left(\\theta \\right)}}{r^{3}} + \\frac{D \\sin{\\left(\\theta \\right)}}{r}$"
      ],
      "text/plain": [
       "<IPython.core.display.Math object>"
      ]
     },
     "metadata": {},
     "output_type": "display_data"
    },
    {
     "data": {
      "text/latex": [
       "$\\displaystyle \\sigma_{r\\theta} = - 2 A r \\cos{\\left(\\theta \\right)} + \\frac{2 B \\cos{\\left(\\theta \\right)}}{r^{3}} - \\frac{D \\cos{\\left(\\theta \\right)}}{r}$"
      ],
      "text/plain": [
       "<IPython.core.display.Math object>"
      ]
     },
     "metadata": {},
     "output_type": "display_data"
    }
   ],
   "source": [
    "sigmarr = sigma_rr(phi)\n",
    "sigmatt = sigma_tt(phi)\n",
    "sigmart = sigma_rt(phi)\n",
    "\n",
    "display(Math(r'\\sigma_{{rr}} = {}'.format(sp.latex(sigmarr))))\n",
    "display(Math(r'\\sigma_{{\\theta\\theta}} = {}'.format(sp.latex(sigmatt))))\n",
    "display(Math(r'\\sigma_{{r\\theta}} = {}'.format(sp.latex(sigmart))))"
   ]
  },
  {
   "cell_type": "markdown",
   "metadata": {},
   "source": [
    "We would like to use the following boundary conditions:\n",
    "\n",
    "\\begin{align}\n",
    "\\sigma_{rr} &= 0 \\quad \\text{at $r=a$ and $r=b$} \\\\\n",
    "\\int_a^b \\sigma_{rt} \\; dr &= P \\quad \\text{at $\\theta = 0$} \n",
    "\\end{align}"
   ]
  },
  {
   "cell_type": "code",
   "execution_count": 28,
   "metadata": {},
   "outputs": [
    {
     "data": {
      "text/latex": [
       "$\\displaystyle 2 A a \\sin{\\left(\\theta \\right)} - \\frac{2 B \\sin{\\left(\\theta \\right)}}{a^{3}} + \\frac{D \\sin{\\left(\\theta \\right)}}{a} = 0$"
      ],
      "text/plain": [
       "Eq(2*A*a*sin(theta) - 2*B*sin(theta)/a**3 + D*sin(theta)/a, 0)"
      ]
     },
     "metadata": {},
     "output_type": "display_data"
    },
    {
     "data": {
      "text/latex": [
       "$\\displaystyle 2 A b \\sin{\\left(\\theta \\right)} - \\frac{2 B \\sin{\\left(\\theta \\right)}}{b^{3}} + \\frac{D \\sin{\\left(\\theta \\right)}}{b} = 0$"
      ],
      "text/plain": [
       "Eq(2*A*b*sin(theta) - 2*B*sin(theta)/b**3 + D*sin(theta)/b, 0)"
      ]
     },
     "metadata": {},
     "output_type": "display_data"
    },
    {
     "data": {
      "text/latex": [
       "$\\displaystyle A a^{2} - A b^{2} - \\frac{B}{b^{2}} + \\frac{B}{a^{2}} + D \\log{\\left(a \\right)} - D \\log{\\left(b \\right)} = P$"
      ],
      "text/plain": [
       "Eq(A*a**2 - A*b**2 - B/b**2 + B/a**2 + D*log(a) - D*log(b), P)"
      ]
     },
     "metadata": {},
     "output_type": "display_data"
    }
   ],
   "source": [
    "a, b, P = sp.symbols('a, b, P')\n",
    "\n",
    "lhs = sigmarr.subs(r,a)\n",
    "rhs = 0\n",
    "eq1 = sp.Eq(lhs,rhs)\n",
    "display(eq1)\n",
    "\n",
    "lhs = sigmarr.subs(r,b)\n",
    "rhs = 0\n",
    "eq2 = sp.Eq(lhs,rhs)\n",
    "display(eq2)\n",
    "\n",
    "lhs = sp.integrate(sigmart,(r,a,b)).subs(theta,0)\n",
    "rhs = P\n",
    "eq3 = sp.Eq(lhs,rhs)\n",
    "display(eq3)"
   ]
  },
  {
   "cell_type": "markdown",
   "metadata": {},
   "source": [
    "Next, we solve for the unknowns $A$, $B$, and $D$ as follows:"
   ]
  },
  {
   "cell_type": "code",
   "execution_count": 29,
   "metadata": {},
   "outputs": [],
   "source": [
    "soln, = sp.linsolve([eq1,eq2,eq3],(A,B,D))"
   ]
  },
  {
   "cell_type": "code",
   "execution_count": 30,
   "metadata": {},
   "outputs": [
    {
     "data": {
      "text/latex": [
       "$\\displaystyle - \\frac{P}{2 a^{2} \\log{\\left(a \\right)} - 2 a^{2} \\log{\\left(b \\right)} - 2 a^{2} + 2 b^{2} \\log{\\left(a \\right)} - 2 b^{2} \\log{\\left(b \\right)} + 2 b^{2}}$"
      ],
      "text/plain": [
       "-P/(2*a**2*log(a) - 2*a**2*log(b) - 2*a**2 + 2*b**2*log(a) - 2*b**2*log(b) + 2*b**2)"
      ]
     },
     "metadata": {},
     "output_type": "display_data"
    },
    {
     "data": {
      "text/latex": [
       "$\\displaystyle \\frac{P a^{2} b^{2}}{2 \\left(a^{2} \\log{\\left(a \\right)} - a^{2} \\log{\\left(b \\right)} - a^{2} + b^{2} \\log{\\left(a \\right)} - b^{2} \\log{\\left(b \\right)} + b^{2}\\right)}$"
      ],
      "text/plain": [
       "P*a**2*b**2/(2*(a**2*log(a) - a**2*log(b) - a**2 + b**2*log(a) - b**2*log(b) + b**2))"
      ]
     },
     "metadata": {},
     "output_type": "display_data"
    },
    {
     "data": {
      "text/latex": [
       "$\\displaystyle \\frac{P \\left(a^{2} + b^{2}\\right)}{a^{2} \\log{\\left(a \\right)} - a^{2} \\log{\\left(b \\right)} - a^{2} + b^{2} \\log{\\left(a \\right)} - b^{2} \\log{\\left(b \\right)} + b^{2}}$"
      ],
      "text/plain": [
       "P*(a**2 + b**2)/(a**2*log(a) - a**2*log(b) - a**2 + b**2*log(a) - b**2*log(b) + b**2)"
      ]
     },
     "metadata": {},
     "output_type": "display_data"
    }
   ],
   "source": [
    "Avalue = soln[0]\n",
    "Bvalue = soln[1]\n",
    "Dvalue = soln[2]\n",
    "\n",
    "display(Avalue)\n",
    "display(Bvalue)\n",
    "display(Dvalue)"
   ]
  },
  {
   "cell_type": "code",
   "execution_count": 31,
   "metadata": {},
   "outputs": [
    {
     "data": {
      "text/latex": [
       "$\\displaystyle \\sigma_{rr}^{\\rm ans} = \\frac{P \\left(- a^{2} b^{2} - r^{4} + r^{2} \\left(a^{2} + b^{2}\\right)\\right) \\sin{\\left(\\theta \\right)}}{r^{3} \\left(a^{2} \\log{\\left(a \\right)} - a^{2} \\log{\\left(b \\right)} - a^{2} + b^{2} \\log{\\left(a \\right)} - b^{2} \\log{\\left(b \\right)} + b^{2}\\right)}$"
      ],
      "text/plain": [
       "<IPython.core.display.Math object>"
      ]
     },
     "metadata": {},
     "output_type": "display_data"
    },
    {
     "data": {
      "text/latex": [
       "$\\displaystyle \\sigma_{\\theta\\theta}^{\\rm ans} = \\frac{P \\left(a^{2} b^{2} - 3 r^{4} + r^{2} \\left(a^{2} + b^{2}\\right)\\right) \\sin{\\left(\\theta \\right)}}{r^{3} \\left(a^{2} \\log{\\left(a \\right)} - a^{2} \\log{\\left(b \\right)} - a^{2} + b^{2} \\log{\\left(a \\right)} - b^{2} \\log{\\left(b \\right)} + b^{2}\\right)}$"
      ],
      "text/plain": [
       "<IPython.core.display.Math object>"
      ]
     },
     "metadata": {},
     "output_type": "display_data"
    },
    {
     "data": {
      "text/latex": [
       "$\\displaystyle \\sigma_{r\\theta}^{\\rm ans} = \\frac{P \\left(a^{2} b^{2} + r^{4} - r^{2} \\left(a^{2} + b^{2}\\right)\\right) \\cos{\\left(\\theta \\right)}}{r^{3} \\left(a^{2} \\log{\\left(a \\right)} - a^{2} \\log{\\left(b \\right)} - a^{2} + b^{2} \\log{\\left(a \\right)} - b^{2} \\log{\\left(b \\right)} + b^{2}\\right)}$"
      ],
      "text/plain": [
       "<IPython.core.display.Math object>"
      ]
     },
     "metadata": {},
     "output_type": "display_data"
    }
   ],
   "source": [
    "sigmarr_ans = sigmarr.subs([(A,Avalue),(B,Bvalue),(D,Dvalue)]).simplify()\n",
    "sigmatt_ans = sigmatt.subs([(A,Avalue),(B,Bvalue),(D,Dvalue)]).simplify()\n",
    "sigmart_ans = sigmart.subs([(A,Avalue),(B,Bvalue),(D,Dvalue)]).simplify()\n",
    "\n",
    "display(Math(r'\\sigma_{{rr}}^{{\\rm ans}} = {}'.format(sp.latex(sigmarr_ans))))\n",
    "display(Math(r'\\sigma_{{\\theta\\theta}}^{{\\rm ans}} = {}'.format(sp.latex(sigmatt_ans))))\n",
    "display(Math(r'\\sigma_{{r\\theta}}^{{\\rm ans}} = {}'.format(sp.latex(sigmart_ans))))"
   ]
  },
  {
   "cell_type": "markdown",
   "metadata": {},
   "source": [
    "Even though these solutions may look different from those given in Timoshenko and Goodier, they are exactly the same. This match can easily be verified using elementary algebraic identities. "
   ]
  }
 ],
 "metadata": {
  "hide_input": false,
  "kernelspec": {
   "display_name": "Python 3 (ipykernel)",
   "language": "python",
   "name": "python3"
  },
  "language_info": {
   "codemirror_mode": {
    "name": "ipython",
    "version": 3
   },
   "file_extension": ".py",
   "mimetype": "text/x-python",
   "name": "python",
   "nbconvert_exporter": "python",
   "pygments_lexer": "ipython3",
   "version": "3.9.7"
  },
  "varInspector": {
   "cols": {
    "lenName": 16,
    "lenType": 16,
    "lenVar": 40
   },
   "kernels_config": {
    "python": {
     "delete_cmd_postfix": "",
     "delete_cmd_prefix": "del ",
     "library": "var_list.py",
     "varRefreshCmd": "print(var_dic_list())"
    },
    "r": {
     "delete_cmd_postfix": ") ",
     "delete_cmd_prefix": "rm(",
     "library": "var_list.r",
     "varRefreshCmd": "cat(var_dic_list()) "
    }
   },
   "types_to_exclude": [
    "module",
    "function",
    "builtin_function_or_method",
    "instance",
    "_Feature"
   ],
   "window_display": false
  }
 },
 "nbformat": 4,
 "nbformat_minor": 2
}

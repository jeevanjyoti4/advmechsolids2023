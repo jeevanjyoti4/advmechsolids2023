{
 "cells": [
  {
   "cell_type": "code",
   "execution_count": 1,
   "id": "a7e9253e",
   "metadata": {},
   "outputs": [
    {
     "data": {
      "text/plain": [
       "4"
      ]
     },
     "execution_count": 1,
     "metadata": {},
     "output_type": "execute_result"
    }
   ],
   "source": [
    "2 + 2"
   ]
  },
  {
   "cell_type": "code",
   "execution_count": 2,
   "id": "e8719dc5",
   "metadata": {},
   "outputs": [],
   "source": [
    "import sympy as sym"
   ]
  },
  {
   "cell_type": "code",
   "execution_count": 6,
   "id": "ca909be5",
   "metadata": {},
   "outputs": [],
   "source": [
    "x, y = sym.symbols('x, y')"
   ]
  },
  {
   "cell_type": "code",
   "execution_count": 7,
   "id": "79ffb290",
   "metadata": {},
   "outputs": [
    {
     "data": {
      "text/latex": [
       "$\\displaystyle x$"
      ],
      "text/plain": [
       "x"
      ]
     },
     "execution_count": 7,
     "metadata": {},
     "output_type": "execute_result"
    }
   ],
   "source": [
    "x"
   ]
  },
  {
   "cell_type": "code",
   "execution_count": 8,
   "id": "957678f6",
   "metadata": {},
   "outputs": [
    {
     "data": {
      "text/latex": [
       "$\\displaystyle y$"
      ],
      "text/plain": [
       "y"
      ]
     },
     "execution_count": 8,
     "metadata": {},
     "output_type": "execute_result"
    }
   ],
   "source": [
    "y"
   ]
  },
  {
   "cell_type": "code",
   "execution_count": 13,
   "id": "8eb1ab95",
   "metadata": {},
   "outputs": [
    {
     "data": {
      "text/latex": [
       "$\\displaystyle x^{100} + 100 x^{99} y + 4950 x^{98} y^{2} + 161700 x^{97} y^{3} + 3921225 x^{96} y^{4} + 75287520 x^{95} y^{5} + 1192052400 x^{94} y^{6} + 16007560800 x^{93} y^{7} + 186087894300 x^{92} y^{8} + 1902231808400 x^{91} y^{9} + 17310309456440 x^{90} y^{10} + 141629804643600 x^{89} y^{11} + 1050421051106700 x^{88} y^{12} + 7110542499799200 x^{87} y^{13} + 44186942677323600 x^{86} y^{14} + 253338471349988640 x^{85} y^{15} + 1345860629046814650 x^{84} y^{16} + 6650134872937201800 x^{83} y^{17} + 30664510802988208300 x^{82} y^{18} + 132341572939212267400 x^{81} y^{19} + 535983370403809682970 x^{80} y^{20} + 2041841411062132125600 x^{79} y^{21} + 7332066885177656269200 x^{78} y^{22} + 24865270306254660391200 x^{77} y^{23} + 79776075565900368755100 x^{76} y^{24} + 242519269720337121015504 x^{75} y^{25} + 699574816500972464467800 x^{74} y^{26} + 1917353200780443050763600 x^{73} y^{27} + 4998813702034726525205100 x^{72} y^{28} + 12410847811948286545336800 x^{71} y^{29} + 29372339821610944823963760 x^{70} y^{30} + 66324638306863423796047200 x^{69} y^{31} + 143012501349174257560226775 x^{68} y^{32} + 294692427022540894366527900 x^{67} y^{33} + 580717429720889409486981450 x^{66} y^{34} + 1095067153187962886461165020 x^{65} y^{35} + 1977204582144932989443770175 x^{64} y^{36} + 3420029547493938143902737600 x^{63} y^{37} + 5670048986634686922786117600 x^{62} y^{38} + 9013924030034630492634340800 x^{61} y^{39} + 13746234145802811501267369720 x^{60} y^{40} + 20116440213369968050635175200 x^{59} y^{41} + 28258808871162574166368460400 x^{58} y^{42} + 38116532895986727945334202400 x^{57} y^{43} + 49378235797073715747364762200 x^{56} y^{44} + 61448471214136179596720592960 x^{55} y^{45} + 73470998190814997343905056800 x^{54} y^{46} + 84413487283064039501507937600 x^{53} y^{47} + 93206558875049876949581681100 x^{52} y^{48} + 98913082887808032681188722800 x^{51} y^{49} + 100891344545564193334812497256 x^{50} y^{50} + 98913082887808032681188722800 x^{49} y^{51} + 93206558875049876949581681100 x^{48} y^{52} + 84413487283064039501507937600 x^{47} y^{53} + 73470998190814997343905056800 x^{46} y^{54} + 61448471214136179596720592960 x^{45} y^{55} + 49378235797073715747364762200 x^{44} y^{56} + 38116532895986727945334202400 x^{43} y^{57} + 28258808871162574166368460400 x^{42} y^{58} + 20116440213369968050635175200 x^{41} y^{59} + 13746234145802811501267369720 x^{40} y^{60} + 9013924030034630492634340800 x^{39} y^{61} + 5670048986634686922786117600 x^{38} y^{62} + 3420029547493938143902737600 x^{37} y^{63} + 1977204582144932989443770175 x^{36} y^{64} + 1095067153187962886461165020 x^{35} y^{65} + 580717429720889409486981450 x^{34} y^{66} + 294692427022540894366527900 x^{33} y^{67} + 143012501349174257560226775 x^{32} y^{68} + 66324638306863423796047200 x^{31} y^{69} + 29372339821610944823963760 x^{30} y^{70} + 12410847811948286545336800 x^{29} y^{71} + 4998813702034726525205100 x^{28} y^{72} + 1917353200780443050763600 x^{27} y^{73} + 699574816500972464467800 x^{26} y^{74} + 242519269720337121015504 x^{25} y^{75} + 79776075565900368755100 x^{24} y^{76} + 24865270306254660391200 x^{23} y^{77} + 7332066885177656269200 x^{22} y^{78} + 2041841411062132125600 x^{21} y^{79} + 535983370403809682970 x^{20} y^{80} + 132341572939212267400 x^{19} y^{81} + 30664510802988208300 x^{18} y^{82} + 6650134872937201800 x^{17} y^{83} + 1345860629046814650 x^{16} y^{84} + 253338471349988640 x^{15} y^{85} + 44186942677323600 x^{14} y^{86} + 7110542499799200 x^{13} y^{87} + 1050421051106700 x^{12} y^{88} + 141629804643600 x^{11} y^{89} + 17310309456440 x^{10} y^{90} + 1902231808400 x^{9} y^{91} + 186087894300 x^{8} y^{92} + 16007560800 x^{7} y^{93} + 1192052400 x^{6} y^{94} + 75287520 x^{5} y^{95} + 3921225 x^{4} y^{96} + 161700 x^{3} y^{97} + 4950 x^{2} y^{98} + 100 x y^{99} + y^{100}$"
      ],
      "text/plain": [
       "x**100 + 100*x**99*y + 4950*x**98*y**2 + 161700*x**97*y**3 + 3921225*x**96*y**4 + 75287520*x**95*y**5 + 1192052400*x**94*y**6 + 16007560800*x**93*y**7 + 186087894300*x**92*y**8 + 1902231808400*x**91*y**9 + 17310309456440*x**90*y**10 + 141629804643600*x**89*y**11 + 1050421051106700*x**88*y**12 + 7110542499799200*x**87*y**13 + 44186942677323600*x**86*y**14 + 253338471349988640*x**85*y**15 + 1345860629046814650*x**84*y**16 + 6650134872937201800*x**83*y**17 + 30664510802988208300*x**82*y**18 + 132341572939212267400*x**81*y**19 + 535983370403809682970*x**80*y**20 + 2041841411062132125600*x**79*y**21 + 7332066885177656269200*x**78*y**22 + 24865270306254660391200*x**77*y**23 + 79776075565900368755100*x**76*y**24 + 242519269720337121015504*x**75*y**25 + 699574816500972464467800*x**74*y**26 + 1917353200780443050763600*x**73*y**27 + 4998813702034726525205100*x**72*y**28 + 12410847811948286545336800*x**71*y**29 + 29372339821610944823963760*x**70*y**30 + 66324638306863423796047200*x**69*y**31 + 143012501349174257560226775*x**68*y**32 + 294692427022540894366527900*x**67*y**33 + 580717429720889409486981450*x**66*y**34 + 1095067153187962886461165020*x**65*y**35 + 1977204582144932989443770175*x**64*y**36 + 3420029547493938143902737600*x**63*y**37 + 5670048986634686922786117600*x**62*y**38 + 9013924030034630492634340800*x**61*y**39 + 13746234145802811501267369720*x**60*y**40 + 20116440213369968050635175200*x**59*y**41 + 28258808871162574166368460400*x**58*y**42 + 38116532895986727945334202400*x**57*y**43 + 49378235797073715747364762200*x**56*y**44 + 61448471214136179596720592960*x**55*y**45 + 73470998190814997343905056800*x**54*y**46 + 84413487283064039501507937600*x**53*y**47 + 93206558875049876949581681100*x**52*y**48 + 98913082887808032681188722800*x**51*y**49 + 100891344545564193334812497256*x**50*y**50 + 98913082887808032681188722800*x**49*y**51 + 93206558875049876949581681100*x**48*y**52 + 84413487283064039501507937600*x**47*y**53 + 73470998190814997343905056800*x**46*y**54 + 61448471214136179596720592960*x**45*y**55 + 49378235797073715747364762200*x**44*y**56 + 38116532895986727945334202400*x**43*y**57 + 28258808871162574166368460400*x**42*y**58 + 20116440213369968050635175200*x**41*y**59 + 13746234145802811501267369720*x**40*y**60 + 9013924030034630492634340800*x**39*y**61 + 5670048986634686922786117600*x**38*y**62 + 3420029547493938143902737600*x**37*y**63 + 1977204582144932989443770175*x**36*y**64 + 1095067153187962886461165020*x**35*y**65 + 580717429720889409486981450*x**34*y**66 + 294692427022540894366527900*x**33*y**67 + 143012501349174257560226775*x**32*y**68 + 66324638306863423796047200*x**31*y**69 + 29372339821610944823963760*x**30*y**70 + 12410847811948286545336800*x**29*y**71 + 4998813702034726525205100*x**28*y**72 + 1917353200780443050763600*x**27*y**73 + 699574816500972464467800*x**26*y**74 + 242519269720337121015504*x**25*y**75 + 79776075565900368755100*x**24*y**76 + 24865270306254660391200*x**23*y**77 + 7332066885177656269200*x**22*y**78 + 2041841411062132125600*x**21*y**79 + 535983370403809682970*x**20*y**80 + 132341572939212267400*x**19*y**81 + 30664510802988208300*x**18*y**82 + 6650134872937201800*x**17*y**83 + 1345860629046814650*x**16*y**84 + 253338471349988640*x**15*y**85 + 44186942677323600*x**14*y**86 + 7110542499799200*x**13*y**87 + 1050421051106700*x**12*y**88 + 141629804643600*x**11*y**89 + 17310309456440*x**10*y**90 + 1902231808400*x**9*y**91 + 186087894300*x**8*y**92 + 16007560800*x**7*y**93 + 1192052400*x**6*y**94 + 75287520*x**5*y**95 + 3921225*x**4*y**96 + 161700*x**3*y**97 + 4950*x**2*y**98 + 100*x*y**99 + y**100"
      ]
     },
     "execution_count": 13,
     "metadata": {},
     "output_type": "execute_result"
    }
   ],
   "source": [
    "((x+y)**100).expand()"
   ]
  },
  {
   "cell_type": "code",
   "execution_count": 19,
   "id": "afb2a566",
   "metadata": {},
   "outputs": [
    {
     "data": {
      "text/latex": [
       "$\\displaystyle 3 x + 4 y = 11$"
      ],
      "text/plain": [
       "Eq(3*x + 4*y, 11)"
      ]
     },
     "metadata": {},
     "output_type": "display_data"
    },
    {
     "data": {
      "text/latex": [
       "$\\displaystyle x + y = 3$"
      ],
      "text/plain": [
       "Eq(x + y, 3)"
      ]
     },
     "metadata": {},
     "output_type": "display_data"
    }
   ],
   "source": [
    "eq1 = sym.Eq(3*x+4*y,11)\n",
    "eq2 = sym.Eq(x+y,3)\n",
    "display(eq1,eq2)"
   ]
  },
  {
   "cell_type": "code",
   "execution_count": 21,
   "id": "576dbec2",
   "metadata": {},
   "outputs": [
    {
     "data": {
      "text/latex": [
       "$\\displaystyle \\left( 1, \\  2\\right)$"
      ],
      "text/plain": [
       "(1, 2)"
      ]
     },
     "metadata": {},
     "output_type": "display_data"
    }
   ],
   "source": [
    "soln, = sym.linsolve([eq1,eq2],[x,y])\n",
    "display(soln)"
   ]
  },
  {
   "cell_type": "code",
   "execution_count": 23,
   "id": "1ab66811",
   "metadata": {},
   "outputs": [
    {
     "data": {
      "text/latex": [
       "$\\displaystyle 1$"
      ],
      "text/plain": [
       "1"
      ]
     },
     "metadata": {},
     "output_type": "display_data"
    },
    {
     "data": {
      "text/latex": [
       "$\\displaystyle 2$"
      ],
      "text/plain": [
       "2"
      ]
     },
     "metadata": {},
     "output_type": "display_data"
    }
   ],
   "source": [
    "xsoln = soln[0]\n",
    "ysoln = soln[1]\n",
    "display(xsoln, ysoln)"
   ]
  },
  {
   "cell_type": "code",
   "execution_count": 24,
   "id": "4337a44b",
   "metadata": {},
   "outputs": [],
   "source": [
    "from IPython.display import Math, Latex"
   ]
  },
  {
   "cell_type": "code",
   "execution_count": 28,
   "id": "f53e5f88",
   "metadata": {},
   "outputs": [
    {
     "data": {
      "text/latex": [
       "$\\displaystyle x = 1$"
      ],
      "text/plain": [
       "<IPython.core.display.Math object>"
      ]
     },
     "metadata": {},
     "output_type": "display_data"
    },
    {
     "data": {
      "text/latex": [
       "$\\displaystyle y = 2$"
      ],
      "text/plain": [
       "<IPython.core.display.Math object>"
      ]
     },
     "metadata": {},
     "output_type": "display_data"
    }
   ],
   "source": [
    "display(Math(r'$x = {}$'.format(sym.latex(xsoln))))\n",
    "display(Math(r'$y = {}$'.format(sym.latex(ysoln))))"
   ]
  },
  {
   "cell_type": "markdown",
   "id": "4ef413d3",
   "metadata": {},
   "source": [
    "Next, we are going to do some calculus:"
   ]
  },
  {
   "cell_type": "code",
   "execution_count": 30,
   "id": "5f8135da",
   "metadata": {},
   "outputs": [
    {
     "data": {
      "text/latex": [
       "$\\displaystyle x^{2}$"
      ],
      "text/plain": [
       "x**2"
      ]
     },
     "metadata": {},
     "output_type": "display_data"
    }
   ],
   "source": [
    "fn = x**2\n",
    "display(fn)"
   ]
  },
  {
   "cell_type": "code",
   "execution_count": 31,
   "id": "24f8d8ee",
   "metadata": {},
   "outputs": [
    {
     "data": {
      "text/latex": [
       "$\\displaystyle 2 x$"
      ],
      "text/plain": [
       "2*x"
      ]
     },
     "execution_count": 31,
     "metadata": {},
     "output_type": "execute_result"
    }
   ],
   "source": [
    "sym.diff(fn,x)"
   ]
  },
  {
   "cell_type": "code",
   "execution_count": 32,
   "id": "bdabf2b4",
   "metadata": {},
   "outputs": [
    {
     "data": {
      "text/latex": [
       "$\\displaystyle 2$"
      ],
      "text/plain": [
       "2"
      ]
     },
     "execution_count": 32,
     "metadata": {},
     "output_type": "execute_result"
    }
   ],
   "source": [
    "sym.diff(fn,(x,2))"
   ]
  },
  {
   "cell_type": "code",
   "execution_count": 33,
   "id": "ff5fee90",
   "metadata": {},
   "outputs": [
    {
     "data": {
      "text/latex": [
       "$\\displaystyle x y^{2}$"
      ],
      "text/plain": [
       "x*y**2"
      ]
     },
     "metadata": {},
     "output_type": "display_data"
    }
   ],
   "source": [
    "gn = x*y**2\n",
    "display(gn)"
   ]
  },
  {
   "cell_type": "markdown",
   "id": "d2ae143f",
   "metadata": {},
   "source": [
    "Let's do a partial differentiation next: $\\dfrac{\\partial^3 gn}{\\partial x \\partial y^2}$"
   ]
  },
  {
   "cell_type": "code",
   "execution_count": 35,
   "id": "4034b31d",
   "metadata": {
    "scrolled": true
   },
   "outputs": [
    {
     "data": {
      "text/latex": [
       "$\\displaystyle 2$"
      ],
      "text/plain": [
       "2"
      ]
     },
     "execution_count": 35,
     "metadata": {},
     "output_type": "execute_result"
    }
   ],
   "source": [
    "sym.diff(gn,x,(y,2))"
   ]
  },
  {
   "cell_type": "code",
   "execution_count": 36,
   "id": "5464c43a",
   "metadata": {},
   "outputs": [],
   "source": [
    "def add(a,b):\n",
    "    return a+b"
   ]
  },
  {
   "cell_type": "code",
   "execution_count": 37,
   "id": "ed8b76ad",
   "metadata": {},
   "outputs": [
    {
     "data": {
      "text/plain": [
       "5"
      ]
     },
     "execution_count": 37,
     "metadata": {},
     "output_type": "execute_result"
    }
   ],
   "source": [
    "add(1,4)"
   ]
  },
  {
   "cell_type": "code",
   "execution_count": 38,
   "id": "6ba7f527",
   "metadata": {},
   "outputs": [
    {
     "data": {
      "text/plain": [
       "9"
      ]
     },
     "execution_count": 38,
     "metadata": {},
     "output_type": "execute_result"
    }
   ],
   "source": [
    "add(2,add(3,4))"
   ]
  },
  {
   "cell_type": "code",
   "execution_count": 39,
   "id": "c0acdb12",
   "metadata": {},
   "outputs": [],
   "source": [
    "def laplacian(f):\n",
    "    return sym.diff(f,(x,2)) + sym.diff(f,(y,2))"
   ]
  },
  {
   "cell_type": "code",
   "execution_count": 40,
   "id": "3a18bd20",
   "metadata": {},
   "outputs": [
    {
     "data": {
      "text/latex": [
       "$\\displaystyle x y^{2}$"
      ],
      "text/plain": [
       "x*y**2"
      ]
     },
     "execution_count": 40,
     "metadata": {},
     "output_type": "execute_result"
    }
   ],
   "source": [
    "gn"
   ]
  },
  {
   "cell_type": "code",
   "execution_count": 41,
   "id": "f20ee0dd",
   "metadata": {},
   "outputs": [
    {
     "data": {
      "text/latex": [
       "$\\displaystyle 2 x$"
      ],
      "text/plain": [
       "2*x"
      ]
     },
     "execution_count": 41,
     "metadata": {},
     "output_type": "execute_result"
    }
   ],
   "source": [
    "laplacian(gn)"
   ]
  },
  {
   "cell_type": "code",
   "execution_count": 42,
   "id": "a7ff976d",
   "metadata": {},
   "outputs": [
    {
     "data": {
      "text/latex": [
       "$\\displaystyle x^{2} + y^{2}$"
      ],
      "text/plain": [
       "x**2 + y**2"
      ]
     },
     "metadata": {},
     "output_type": "display_data"
    }
   ],
   "source": [
    "hn = x**2 + y**2\n",
    "display(hn)"
   ]
  },
  {
   "cell_type": "code",
   "execution_count": 43,
   "id": "17a7bbd9",
   "metadata": {},
   "outputs": [
    {
     "data": {
      "text/latex": [
       "$\\displaystyle 4$"
      ],
      "text/plain": [
       "4"
      ]
     },
     "execution_count": 43,
     "metadata": {},
     "output_type": "execute_result"
    }
   ],
   "source": [
    "laplacian(hn)"
   ]
  },
  {
   "cell_type": "code",
   "execution_count": 47,
   "id": "29dd359a",
   "metadata": {},
   "outputs": [
    {
     "data": {
      "text/latex": [
       "$\\displaystyle \\varphi{\\left(x,y \\right)}$"
      ],
      "text/plain": [
       "varphi(x, y)"
      ]
     },
     "metadata": {},
     "output_type": "display_data"
    }
   ],
   "source": [
    "varphi = sym.Function('varphi')(x,y)\n",
    "display(varphi)"
   ]
  },
  {
   "cell_type": "code",
   "execution_count": 48,
   "id": "0f124a00",
   "metadata": {},
   "outputs": [
    {
     "data": {
      "text/latex": [
       "$\\displaystyle \\frac{\\partial^{2}}{\\partial x^{2}} \\varphi{\\left(x,y \\right)} + \\frac{\\partial^{2}}{\\partial y^{2}} \\varphi{\\left(x,y \\right)}$"
      ],
      "text/plain": [
       "Derivative(varphi(x, y), (x, 2)) + Derivative(varphi(x, y), (y, 2))"
      ]
     },
     "execution_count": 48,
     "metadata": {},
     "output_type": "execute_result"
    }
   ],
   "source": [
    "laplacian(varphi)"
   ]
  },
  {
   "cell_type": "code",
   "execution_count": 49,
   "id": "73e4354c",
   "metadata": {},
   "outputs": [],
   "source": [
    "def biharmonic(f):\n",
    "    return laplacian(laplacian(f))"
   ]
  },
  {
   "cell_type": "code",
   "execution_count": 50,
   "id": "9c3b2fc5",
   "metadata": {},
   "outputs": [
    {
     "data": {
      "text/latex": [
       "$\\displaystyle \\frac{\\partial^{4}}{\\partial x^{4}} \\varphi{\\left(x,y \\right)} + \\frac{\\partial^{4}}{\\partial y^{4}} \\varphi{\\left(x,y \\right)} + 2 \\frac{\\partial^{4}}{\\partial y^{2}\\partial x^{2}} \\varphi{\\left(x,y \\right)}$"
      ],
      "text/plain": [
       "Derivative(varphi(x, y), (x, 4)) + Derivative(varphi(x, y), (y, 4)) + 2*Derivative(varphi(x, y), (x, 2), (y, 2))"
      ]
     },
     "execution_count": 50,
     "metadata": {},
     "output_type": "execute_result"
    }
   ],
   "source": [
    "biharmonic(varphi)"
   ]
  },
  {
   "cell_type": "code",
   "execution_count": 52,
   "id": "79449719",
   "metadata": {},
   "outputs": [
    {
     "data": {
      "text/latex": [
       "$\\displaystyle A_{02} y^{2} + A_{11} x y + A_{20} x^{2}$"
      ],
      "text/plain": [
       "A_02*y**2 + A_11*x*y + A_20*x**2"
      ]
     },
     "metadata": {},
     "output_type": "display_data"
    }
   ],
   "source": [
    "A20, A11, A02 = sym.symbols('A_20, A_11, A_02')\n",
    "airy2 = A20*x**2 + A11*x*y + A02*y**2\n",
    "display(airy2)"
   ]
  },
  {
   "cell_type": "code",
   "execution_count": 53,
   "id": "1b4b219b",
   "metadata": {},
   "outputs": [
    {
     "data": {
      "text/latex": [
       "$\\displaystyle 0$"
      ],
      "text/plain": [
       "0"
      ]
     },
     "execution_count": 53,
     "metadata": {},
     "output_type": "execute_result"
    }
   ],
   "source": [
    "biharmonic(airy2)"
   ]
  },
  {
   "cell_type": "code",
   "execution_count": 54,
   "id": "57680cb9",
   "metadata": {},
   "outputs": [],
   "source": [
    "def sigmaxx(f):\n",
    "    return sym.diff(f,(y,2))\n",
    "\n",
    "def sigmayy(f):\n",
    "    return sym.diff(f,(x,2))\n",
    "\n",
    "def sigmaxy(f):\n",
    "    return -sym.diff(f,(x,1),(y,1))"
   ]
  },
  {
   "cell_type": "code",
   "execution_count": 55,
   "id": "ad4a7305",
   "metadata": {},
   "outputs": [
    {
     "data": {
      "text/latex": [
       "$\\displaystyle 2 A_{02}$"
      ],
      "text/plain": [
       "2*A_02"
      ]
     },
     "execution_count": 55,
     "metadata": {},
     "output_type": "execute_result"
    }
   ],
   "source": [
    "sigmaxx(airy2)"
   ]
  },
  {
   "cell_type": "code",
   "execution_count": 56,
   "id": "1abc3f29",
   "metadata": {},
   "outputs": [
    {
     "data": {
      "text/latex": [
       "$\\displaystyle 2 A_{20}$"
      ],
      "text/plain": [
       "2*A_20"
      ]
     },
     "execution_count": 56,
     "metadata": {},
     "output_type": "execute_result"
    }
   ],
   "source": [
    "sigmayy(airy2)"
   ]
  },
  {
   "cell_type": "code",
   "execution_count": 57,
   "id": "dd2eb71f",
   "metadata": {},
   "outputs": [
    {
     "data": {
      "text/latex": [
       "$\\displaystyle - A_{11}$"
      ],
      "text/plain": [
       "-A_11"
      ]
     },
     "execution_count": 57,
     "metadata": {},
     "output_type": "execute_result"
    }
   ],
   "source": [
    "sigmaxy(airy2)"
   ]
  },
  {
   "cell_type": "code",
   "execution_count": 61,
   "id": "0cdf764e",
   "metadata": {},
   "outputs": [
    {
     "data": {
      "text/latex": [
       "$\\displaystyle A_{03} y^{3} + A_{12} x y^{2} + A_{21} x^{2} y + A_{30} x^{3}$"
      ],
      "text/plain": [
       "A_03*y**3 + A_12*x*y**2 + A_21*x**2*y + A_30*x**3"
      ]
     },
     "metadata": {},
     "output_type": "display_data"
    }
   ],
   "source": [
    "A30, A21, A12, A03 = sym.symbols('A_30, A_21, A_12, A_03')\n",
    "airy3 = A30*x**3 + A21*x**2*y + A12*x*y**2 + A03*y**3\n",
    "display(airy3)"
   ]
  },
  {
   "cell_type": "code",
   "execution_count": 62,
   "id": "ee8adc72",
   "metadata": {},
   "outputs": [
    {
     "data": {
      "text/latex": [
       "$\\displaystyle 0$"
      ],
      "text/plain": [
       "0"
      ]
     },
     "execution_count": 62,
     "metadata": {},
     "output_type": "execute_result"
    }
   ],
   "source": [
    "biharmonic(airy3)"
   ]
  },
  {
   "cell_type": "code",
   "execution_count": 64,
   "id": "7eef7440",
   "metadata": {},
   "outputs": [
    {
     "data": {
      "text/latex": [
       "$\\displaystyle 2 \\cdot \\left(3 A_{03} y + A_{12} x\\right)$"
      ],
      "text/plain": [
       "2*(3*A_03*y + A_12*x)"
      ]
     },
     "metadata": {},
     "output_type": "display_data"
    },
    {
     "data": {
      "text/latex": [
       "$\\displaystyle 2 \\left(A_{21} y + 3 A_{30} x\\right)$"
      ],
      "text/plain": [
       "2*(A_21*y + 3*A_30*x)"
      ]
     },
     "metadata": {},
     "output_type": "display_data"
    },
    {
     "data": {
      "text/latex": [
       "$\\displaystyle - 2 \\left(A_{12} y + A_{21} x\\right)$"
      ],
      "text/plain": [
       "-2*(A_12*y + A_21*x)"
      ]
     },
     "metadata": {},
     "output_type": "display_data"
    }
   ],
   "source": [
    "display(sigmaxx(airy3),\n",
    "        sigmayy(airy3),\n",
    "        sigmaxy(airy3))"
   ]
  },
  {
   "cell_type": "code",
   "execution_count": 65,
   "id": "45ddca49",
   "metadata": {},
   "outputs": [
    {
     "data": {
      "text/latex": [
       "$\\displaystyle A_{04} y^{4} + A_{13} x y^{3} + A_{22} x^{2} y^{2} + A_{31} x^{3} y + A_{40} x^{4}$"
      ],
      "text/plain": [
       "A04*y**4 + A13*x*y**3 + A22*x**2*y**2 + A31*x**3*y + A40*x**4"
      ]
     },
     "metadata": {},
     "output_type": "display_data"
    }
   ],
   "source": [
    "A40, A31, A22, A13, A04 = sym.symbols('A40, A31, A22, A13, A04')\n",
    "airy4 = A40*x**4 + A31*x**3*y + A22*x**2*y**2 + A13*x*y**3 + A04*y**4\n",
    "display(airy4)"
   ]
  },
  {
   "cell_type": "code",
   "execution_count": 67,
   "id": "b3b83799",
   "metadata": {},
   "outputs": [
    {
     "data": {
      "text/latex": [
       "$\\displaystyle 24 A_{04} + 8 A_{22} + 24 A_{40}$"
      ],
      "text/plain": [
       "24*A04 + 8*A22 + 24*A40"
      ]
     },
     "execution_count": 67,
     "metadata": {},
     "output_type": "execute_result"
    }
   ],
   "source": [
    "(biharmonic(airy4)).expand()"
   ]
  },
  {
   "cell_type": "code",
   "execution_count": 68,
   "id": "f2c63e0b",
   "metadata": {},
   "outputs": [
    {
     "data": {
      "text/latex": [
       "$\\displaystyle A_{05} y^{5} + A_{14} x y^{4} + A_{23} x^{2} y^{3} + A_{32} x^{3} y^{2} + A_{41} x^{4} y + A_{50} x^{5}$"
      ],
      "text/plain": [
       "A05*y**5 + A14*x*y**4 + A23*x**2*y**3 + A32*x**3*y**2 + A41*x**4*y + A50*x**5"
      ]
     },
     "metadata": {},
     "output_type": "display_data"
    }
   ],
   "source": [
    "A50, A41, A32, A23, A14, A05 = sym.symbols('A50, A41, A32, A23, A14, A05')\n",
    "airy5 = A50*x**5 + A41*x**4*y + A32*x**3*y**2 + A23*x**2*y**3 + A14*x*y**4 + A05*y**5\n",
    "display(airy5)"
   ]
  },
  {
   "cell_type": "code",
   "execution_count": 70,
   "id": "5aad3c15",
   "metadata": {},
   "outputs": [
    {
     "data": {
      "text/latex": [
       "$\\displaystyle 120 A_{05} y + 24 A_{14} x + 24 A_{23} y + 24 A_{32} x + 24 A_{41} y + 120 A_{50} x$"
      ],
      "text/plain": [
       "120*A05*y + 24*A14*x + 24*A23*y + 24*A32*x + 24*A41*y + 120*A50*x"
      ]
     },
     "metadata": {},
     "output_type": "display_data"
    }
   ],
   "source": [
    "biharm = (biharmonic(airy5)).expand()\n",
    "display(biharm)"
   ]
  },
  {
   "cell_type": "code",
   "execution_count": 72,
   "id": "56cfd140",
   "metadata": {},
   "outputs": [
    {
     "data": {
      "text/latex": [
       "$\\displaystyle 24 A_{14} + 24 A_{32} + 120 A_{50}$"
      ],
      "text/plain": [
       "24*A14 + 24*A32 + 120*A50"
      ]
     },
     "metadata": {},
     "output_type": "display_data"
    },
    {
     "data": {
      "text/latex": [
       "$\\displaystyle 120 A_{05} + 24 A_{23} + 24 A_{41}$"
      ],
      "text/plain": [
       "120*A05 + 24*A23 + 24*A41"
      ]
     },
     "metadata": {},
     "output_type": "display_data"
    }
   ],
   "source": [
    "biharm_x = biharm.coeff(x)\n",
    "biharm_y = biharm.coeff(y)\n",
    "display(biharm_x, biharm_y)"
   ]
  },
  {
   "cell_type": "code",
   "execution_count": 73,
   "id": "fcc3bacb",
   "metadata": {},
   "outputs": [
    {
     "data": {
      "text/latex": [
       "$\\displaystyle 24 A_{14} + 24 A_{32} + 120 A_{50} = 0$"
      ],
      "text/plain": [
       "Eq(24*A14 + 24*A32 + 120*A50, 0)"
      ]
     },
     "metadata": {},
     "output_type": "display_data"
    },
    {
     "data": {
      "text/latex": [
       "$\\displaystyle 120 A_{05} + 24 A_{23} + 24 A_{41} = 0$"
      ],
      "text/plain": [
       "Eq(120*A05 + 24*A23 + 24*A41, 0)"
      ]
     },
     "metadata": {},
     "output_type": "display_data"
    }
   ],
   "source": [
    "eq_biharm1 = sym.Eq(biharm_x, 0)\n",
    "eq_biharm2 = sym.Eq(biharm_y, 0)\n",
    "display(eq_biharm1, eq_biharm2)"
   ]
  },
  {
   "cell_type": "code",
   "execution_count": 74,
   "id": "8eca5ef8",
   "metadata": {},
   "outputs": [
    {
     "data": {
      "text/latex": [
       "$\\displaystyle x^{2}$"
      ],
      "text/plain": [
       "x**2"
      ]
     },
     "execution_count": 74,
     "metadata": {},
     "output_type": "execute_result"
    }
   ],
   "source": [
    "fn"
   ]
  },
  {
   "cell_type": "code",
   "execution_count": 75,
   "id": "51806920",
   "metadata": {},
   "outputs": [
    {
     "data": {
      "text/latex": [
       "$\\displaystyle \\frac{x^{3}}{3}$"
      ],
      "text/plain": [
       "x**3/3"
      ]
     },
     "execution_count": 75,
     "metadata": {},
     "output_type": "execute_result"
    }
   ],
   "source": [
    "sym.integrate(fn,x)"
   ]
  },
  {
   "cell_type": "code",
   "execution_count": 76,
   "id": "3eb7124f",
   "metadata": {},
   "outputs": [
    {
     "data": {
      "text/latex": [
       "$\\displaystyle \\frac{1}{3}$"
      ],
      "text/plain": [
       "1/3"
      ]
     },
     "execution_count": 76,
     "metadata": {},
     "output_type": "execute_result"
    }
   ],
   "source": [
    "sym.integrate(fn,(x,0,1))"
   ]
  },
  {
   "cell_type": "code",
   "execution_count": 77,
   "id": "d582ae4a",
   "metadata": {},
   "outputs": [
    {
     "data": {
      "text/latex": [
       "$\\displaystyle x y^{2}$"
      ],
      "text/plain": [
       "x*y**2"
      ]
     },
     "execution_count": 77,
     "metadata": {},
     "output_type": "execute_result"
    }
   ],
   "source": [
    "gn"
   ]
  },
  {
   "cell_type": "code",
   "execution_count": 79,
   "id": "b5a1b999",
   "metadata": {},
   "outputs": [
    {
     "data": {
      "text/latex": [
       "$\\displaystyle \\frac{x y^{3}}{3}$"
      ],
      "text/plain": [
       "x*y**3/3"
      ]
     },
     "execution_count": 79,
     "metadata": {},
     "output_type": "execute_result"
    }
   ],
   "source": [
    "sym.integrate(gn,y)"
   ]
  },
  {
   "cell_type": "code",
   "execution_count": null,
   "id": "ab849c42",
   "metadata": {},
   "outputs": [],
   "source": []
  }
 ],
 "metadata": {
  "kernelspec": {
   "display_name": "Python 3 (ipykernel)",
   "language": "python",
   "name": "python3"
  },
  "language_info": {
   "codemirror_mode": {
    "name": "ipython",
    "version": 3
   },
   "file_extension": ".py",
   "mimetype": "text/x-python",
   "name": "python",
   "nbconvert_exporter": "python",
   "pygments_lexer": "ipython3",
   "version": "3.9.7"
  }
 },
 "nbformat": 4,
 "nbformat_minor": 5
}

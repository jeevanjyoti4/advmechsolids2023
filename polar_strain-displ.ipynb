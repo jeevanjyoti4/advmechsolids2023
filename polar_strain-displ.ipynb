{
 "cells": [
  {
   "cell_type": "markdown",
   "metadata": {},
   "source": [
    "First of all note that since $x = r\\cos\\theta$, $y=r\\sin\\theta$, from which  $x^2 + y^2 = r^2$ and $\\displaystyle \\tan \\theta = \\frac{y}{x}$, we have the following:\n",
    "\n",
    "\\begin{alignat*}{2}\n",
    "\\frac{\\partial r}{\\partial x} &= \\cos \\theta, &\\qquad\n",
    "\\frac{\\partial r}{\\partial y} &= \\sin \\theta, \\\\\n",
    "\\frac{\\partial \\theta}{\\partial x} &= - \\frac{\\sin \\theta}{r}, &\n",
    "\\frac{\\partial \\theta}{\\partial y} &= \\frac{\\cos\\theta}{r}.\n",
    "\\end{alignat*}"
   ]
  },
  {
   "cell_type": "code",
   "execution_count": 1,
   "metadata": {},
   "outputs": [],
   "source": [
    "import sympy as sym\n",
    "\n",
    "r, theta = sym.symbols('r, theta')\n",
    "\n",
    "delr_delx = sym.cos(theta)\n",
    "\n",
    "delr_dely = sym.sin(theta)\n",
    "\n",
    "deltheta_delx = -sym.sin(theta)/r\n",
    "\n",
    "deltheta_dely = sym.cos(theta)/r"
   ]
  },
  {
   "cell_type": "markdown",
   "metadata": {},
   "source": [
    "For a generic function, $f(r,\\theta)$, we have the following relations:\n",
    "\n",
    "\\begin{align*}\n",
    "\\frac{\\partial f}{\\partial x} &= \\frac{\\partial f}{\\partial r}\\frac{\\partial r}{\\partial x} + \\frac{\\partial f}{\\partial \\theta}\\frac{\\partial \\theta}{\\partial x} = \\frac{\\partial f}{\\partial r}\\cos\\theta - \\frac{\\partial f}{\\partial \\theta}\\frac{\\sin \\theta}{r} \\\\\n",
    "\\frac{\\partial f}{\\partial y} &= \\frac{\\partial f}{\\partial r}\\frac{\\partial r}{\\partial y} + \\frac{\\partial f}{\\partial \\theta}\\frac{\\partial \\theta}{\\partial y} = \\frac{\\partial f}{\\partial r} \\sin\\theta + \\frac{\\partial f}{\\partial \\theta}\\frac{\\cos \\theta}{r}.\n",
    "\\end{align*}\n",
    "\n",
    "\n",
    "We define the following Python functions to make these derivatives operable on any function of $r$ and $\\theta$:"
   ]
  },
  {
   "cell_type": "code",
   "execution_count": 2,
   "metadata": {},
   "outputs": [],
   "source": [
    "def del_delx(f):\n",
    "    return delr_delx*sym.diff(f,r) + deltheta_delx*sym.diff(f,theta)\n",
    "\n",
    "def del_dely(f):\n",
    "    return delr_dely*sym.diff(f,r) + deltheta_dely*sym.diff(f,theta)"
   ]
  },
  {
   "cell_type": "markdown",
   "metadata": {},
   "source": [
    "Define the rotation matrix:"
   ]
  },
  {
   "cell_type": "code",
   "execution_count": 3,
   "metadata": {},
   "outputs": [
    {
     "data": {
      "text/latex": [
       "$\\displaystyle \\left[\\begin{matrix}\\cos{\\left(\\theta \\right)} & \\sin{\\left(\\theta \\right)}\\\\- \\sin{\\left(\\theta \\right)} & \\cos{\\left(\\theta \\right)}\\end{matrix}\\right]$"
      ],
      "text/plain": [
       "Matrix([\n",
       "[ cos(theta), sin(theta)],\n",
       "[-sin(theta), cos(theta)]])"
      ]
     },
     "metadata": {},
     "output_type": "display_data"
    }
   ],
   "source": [
    "Q = sym.Matrix([[sym.cos(theta), sym.sin(theta)],[-sym.sin(theta), sym.cos(theta)]])\n",
    "display(Q)"
   ]
  },
  {
   "cell_type": "markdown",
   "metadata": {},
   "source": [
    "Consider the displacement vector $\\mathbf{U}_{\\rm pol} = [u(r,\\theta) \\;\\; v(r,\\theta)]^{\\sf T}$ in polar coordinates. "
   ]
  },
  {
   "cell_type": "code",
   "execution_count": 4,
   "metadata": {},
   "outputs": [
    {
     "data": {
      "text/latex": [
       "$\\displaystyle \\left[\\begin{matrix}u{\\left(r,\\theta \\right)}\\\\v{\\left(r,\\theta \\right)}\\end{matrix}\\right]$"
      ],
      "text/plain": [
       "Matrix([\n",
       "[u(r, theta)],\n",
       "[v(r, theta)]])"
      ]
     },
     "metadata": {},
     "output_type": "display_data"
    }
   ],
   "source": [
    "u = sym.Function('u')(r,theta)\n",
    "v = sym.Function('v')(r,theta)\n",
    "U_pol = sym.Matrix([u, v])\n",
    "display(U_pol)"
   ]
  },
  {
   "cell_type": "markdown",
   "metadata": {},
   "source": [
    "We transform it to the Cartesian system using $[\\mathbf{U}_{\\rm rec}] = [Q]^{\\sf T} [\\mathbf{U}_{\\rm pol}]$."
   ]
  },
  {
   "cell_type": "code",
   "execution_count": 5,
   "metadata": {},
   "outputs": [
    {
     "data": {
      "text/latex": [
       "$\\displaystyle u{\\left(r,\\theta \\right)} \\cos{\\left(\\theta \\right)} - v{\\left(r,\\theta \\right)} \\sin{\\left(\\theta \\right)}$"
      ],
      "text/plain": [
       "u(r, theta)*cos(theta) - v(r, theta)*sin(theta)"
      ]
     },
     "metadata": {},
     "output_type": "display_data"
    },
    {
     "data": {
      "text/latex": [
       "$\\displaystyle u{\\left(r,\\theta \\right)} \\sin{\\left(\\theta \\right)} + v{\\left(r,\\theta \\right)} \\cos{\\left(\\theta \\right)}$"
      ],
      "text/plain": [
       "u(r, theta)*sin(theta) + v(r, theta)*cos(theta)"
      ]
     },
     "metadata": {},
     "output_type": "display_data"
    }
   ],
   "source": [
    "U_rec = (Q.T)*U_pol \n",
    "u_rec = U_rec[0]\n",
    "v_rec = U_rec[1]\n",
    "display(u_rec, v_rec)"
   ]
  },
  {
   "cell_type": "markdown",
   "metadata": {},
   "source": [
    "$\\newcommand{\\urec}{u_{\\rm rec}}$\n",
    "$\\newcommand{\\vrec}{v_{\\rm rec}}$\n",
    "$\\newcommand{\\pd}{\\partial}$\n",
    "$\\newcommand{\\ep}{\\varepsilon}$\n",
    "\n",
    "We set up the strain tensor in the Cartesian system as $\\displaystyle \\varepsilon_{\\rm rec} = \\begin{bmatrix} \\ep_{xx} & \\ep_{xy} \\\\ \\ep_{xy} & \\ep_{yy} \\end{bmatrix}$, \n",
    "\n",
    "where\n",
    "\n",
    "$\\displaystyle \\ep_{xx} = \\frac{\\pd \\urec}{\\pd x}$,\n",
    "\n",
    "$\\displaystyle \\ep_{xy} = \\frac{1}{2} \\left( \\frac{\\pd \\urec}{\\pd y} + \\frac{\\pd \\vrec}{\\pd x} \\right)$,\n",
    "\n",
    "$\\displaystyle \\ep_{yy} = \\frac{\\pd \\vrec}{\\pd y}$\n",
    "\n",
    "We set up these strain-displacement relations using the Python functions defined earlier."
   ]
  },
  {
   "cell_type": "code",
   "execution_count": 6,
   "metadata": {},
   "outputs": [],
   "source": [
    "ep_xx = del_delx(u_rec).simplify()\n",
    "ep_yy = del_dely(v_rec).simplify()\n",
    "ep_xy = (sym.Rational(1,2)*(del_dely(u_rec) + del_delx(v_rec)))\n",
    "\n",
    "ep_rec = sym.Matrix([[ep_xx, ep_xy],[ep_xy, ep_yy]])"
   ]
  },
  {
   "cell_type": "markdown",
   "metadata": {},
   "source": [
    "Finally we transform from Cartesian to polar coordinates using $\\displaystyle [\\ep_{\\rm pol}] = [Q][\\ep_{\\rm rec}][Q]^{\\sf T}$:"
   ]
  },
  {
   "cell_type": "code",
   "execution_count": 7,
   "metadata": {},
   "outputs": [],
   "source": [
    "ep_pol = (Q)*ep_rec*(Q.T)"
   ]
  },
  {
   "cell_type": "markdown",
   "metadata": {},
   "source": [
    "We obtain the different components $\\ep_{rr}$, $\\ep_{r\\theta}$, and $\\ep_{\\theta\\theta}$ as follows:"
   ]
  },
  {
   "cell_type": "code",
   "execution_count": 8,
   "metadata": {},
   "outputs": [
    {
     "data": {
      "text/latex": [
       "$\\displaystyle \\frac{\\partial}{\\partial r} u{\\left(r,\\theta \\right)}$"
      ],
      "text/plain": [
       "Derivative(u(r, theta), r)"
      ]
     },
     "metadata": {},
     "output_type": "display_data"
    },
    {
     "data": {
      "text/latex": [
       "$\\displaystyle \\frac{r \\frac{\\partial}{\\partial r} v{\\left(r,\\theta \\right)} - v{\\left(r,\\theta \\right)} + \\frac{\\partial}{\\partial \\theta} u{\\left(r,\\theta \\right)}}{2 r}$"
      ],
      "text/plain": [
       "(r*Derivative(v(r, theta), r) - v(r, theta) + Derivative(u(r, theta), theta))/(2*r)"
      ]
     },
     "metadata": {},
     "output_type": "display_data"
    },
    {
     "data": {
      "text/latex": [
       "$\\displaystyle \\frac{u{\\left(r,\\theta \\right)} + \\frac{\\partial}{\\partial \\theta} v{\\left(r,\\theta \\right)}}{r}$"
      ],
      "text/plain": [
       "(u(r, theta) + Derivative(v(r, theta), theta))/r"
      ]
     },
     "metadata": {},
     "output_type": "display_data"
    }
   ],
   "source": [
    "ep_rr = ep_pol[0,0].simplify()\n",
    "ep_rt = ep_pol[0,1].simplify()\n",
    "ep_tt = ep_pol[1,1].simplify()\n",
    "\n",
    "display(ep_rr, ep_rt, ep_tt)"
   ]
  }
 ],
 "metadata": {
  "kernelspec": {
   "display_name": "Python 3",
   "language": "python",
   "name": "python3"
  },
  "language_info": {
   "codemirror_mode": {
    "name": "ipython",
    "version": 3
   },
   "file_extension": ".py",
   "mimetype": "text/x-python",
   "name": "python",
   "nbconvert_exporter": "python",
   "pygments_lexer": "ipython3",
   "version": "3.8.8"
  }
 },
 "nbformat": 4,
 "nbformat_minor": 4
}

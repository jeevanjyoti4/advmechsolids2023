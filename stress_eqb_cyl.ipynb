{
 "cells": [
  {
   "cell_type": "markdown",
   "metadata": {},
   "source": [
    "We consider the relations between the cylindrical coordinate variables and the Cartesian coordinate variables.\n",
    "\n",
    "First of all note that since $x = r\\cos\\theta$, $y=r\\sin\\theta$, from which  $x^2 + y^2 = r^2$ and $\\displaystyle \\tan \\theta = \\frac{y}{x}$, we have the following:\n",
    "\n",
    "\\begin{alignat*}{2}\n",
    "\\frac{\\partial r}{\\partial x} &= \\cos \\theta, &\\qquad\n",
    "\\frac{\\partial r}{\\partial y} &= \\sin \\theta, \\\\\n",
    "\\frac{\\partial \\theta}{\\partial x} &= - \\frac{\\sin \\theta}{r}, &\n",
    "\\frac{\\partial \\theta}{\\partial y} &= \\frac{\\cos\\theta}{r}.\n",
    "\\end{alignat*}\n",
    "\n",
    "Furthermore, since the $z$ coordinate directions in both the cylindrical and the Cartesian systems are coincident, we have:\n",
    "\n",
    "\\begin{gather*}\n",
    "\\frac{\\partial r}{\\partial z} = 0, \\quad \\frac{\\partial \\theta}{\\partial z} = 0, \\quad \\frac{\\partial z}{\\partial z} = 1,\n",
    "\\end{gather*}\n",
    "where each of the $\\displaystyle \\frac{\\partial ()}{\\partial z}$ is the partial derivative with respect to the $z$ coordinate variable in the Cartesian system. "
   ]
  },
  {
   "cell_type": "code",
   "execution_count": 1,
   "metadata": {},
   "outputs": [],
   "source": [
    "import sympy as sym\n",
    "\n",
    "r, theta, z = sym.symbols('r, theta, z')\n",
    "\n",
    "delr_delx = sym.cos(theta)\n",
    "\n",
    "delr_dely = sym.sin(theta)\n",
    "\n",
    "delr_delz = 0\n",
    "\n",
    "deltheta_delx = -sym.sin(theta)/r\n",
    "\n",
    "deltheta_dely = sym.cos(theta)/r\n",
    "\n",
    "deltheta_delz = 0\n",
    "\n",
    "delz_delx = 0\n",
    "\n",
    "delz_dely = 0 \n",
    "\n",
    "delz_delz = 1"
   ]
  },
  {
   "cell_type": "markdown",
   "metadata": {},
   "source": [
    "For a generic function, $f(r,\\theta,z)$, we have the following relations:\n",
    "\n",
    "\\begin{align*}\n",
    "\\frac{\\partial f}{\\partial x} &= \\frac{\\partial f}{\\partial r}\\frac{\\partial r}{\\partial x} + \\frac{\\partial f}{\\partial \\theta}\\frac{\\partial \\theta}{\\partial x} + \\frac{\\partial f}{\\partial z}\\frac{\\partial z}{\\partial z} = \\frac{\\partial f}{\\partial r}\\cos\\theta - \\frac{\\partial f}{\\partial \\theta}\\frac{\\sin \\theta}{r} + \\frac{\\partial f}{\\partial z}, \\\\\n",
    "\\frac{\\partial f}{\\partial y} &= \\frac{\\partial f}{\\partial r}\\frac{\\partial r}{\\partial y} + \\frac{\\partial f}{\\partial \\theta}\\frac{\\partial \\theta}{\\partial y} + \\frac{\\partial f}{\\partial z}\\frac{\\partial z}{\\partial z} = \\frac{\\partial f}{\\partial r} \\sin\\theta + \\frac{\\partial f}{\\partial \\theta}\\frac{\\cos \\theta}{r} + \\frac{\\partial f}{\\partial z}, \\\\\n",
    "\\frac{\\partial f}{\\partial z} &= \\frac{\\partial f}{\\partial z}\n",
    "\\end{align*}\n",
    "\n",
    "The $\\displaystyle \\frac{\\partial f}{\\partial z}$ remains unchanged in Cartesian and cylindrical coordinates. \n",
    "\n",
    "We define the following Python functions to make these derivatives operable on any function of $r$, $\\theta$, and $z$:"
   ]
  },
  {
   "cell_type": "code",
   "execution_count": 2,
   "metadata": {},
   "outputs": [],
   "source": [
    "def del_delx(f):\n",
    "    return delr_delx*sym.diff(f,r) + deltheta_delx*sym.diff(f,theta) + sym.diff(f,z)*delz_delx\n",
    "\n",
    "def del_dely(f):\n",
    "    return delr_dely*sym.diff(f,r) + deltheta_dely*sym.diff(f,theta) + sym.diff(f,z)*delz_dely\n",
    "\n",
    "def del_delz(f):\n",
    "    return delr_delz*sym.diff(f,r) + deltheta_delz*sym.diff(f,theta) + sym.diff(f,z)*delz_delz"
   ]
  },
  {
   "cell_type": "markdown",
   "metadata": {},
   "source": [
    "Define the rotation matrix:"
   ]
  },
  {
   "cell_type": "code",
   "execution_count": 3,
   "metadata": {},
   "outputs": [
    {
     "data": {
      "text/latex": [
       "$\\displaystyle \\left[\\begin{matrix}\\cos{\\left(\\theta \\right)} & \\sin{\\left(\\theta \\right)} & 0\\\\- \\sin{\\left(\\theta \\right)} & \\cos{\\left(\\theta \\right)} & 0\\\\0 & 0 & 1\\end{matrix}\\right]$"
      ],
      "text/plain": [
       "Matrix([\n",
       "[ cos(theta), sin(theta), 0],\n",
       "[-sin(theta), cos(theta), 0],\n",
       "[          0,          0, 1]])"
      ]
     },
     "metadata": {},
     "output_type": "display_data"
    }
   ],
   "source": [
    "Q = sym.Matrix([[sym.cos(theta), sym.sin(theta), 0],[-sym.sin(theta), sym.cos(theta), 0],[0, 0, 1]])\n",
    "display(Q)"
   ]
  },
  {
   "cell_type": "markdown",
   "metadata": {},
   "source": [
    "We set up the stress tensor in the cylindrical coordinate system:"
   ]
  },
  {
   "cell_type": "code",
   "execution_count": 4,
   "metadata": {},
   "outputs": [
    {
     "data": {
      "text/latex": [
       "$\\displaystyle \\left[\\begin{matrix}\\sigma_{rr}{\\left(r,\\theta,z \\right)} & \\sigma_{r\\theta}{\\left(r,\\theta,z \\right)} & \\sigma_{zr}{\\left(r,\\theta,z \\right)}\\\\\\sigma_{r\\theta}{\\left(r,\\theta,z \\right)} & \\sigma_{\\theta\\theta}{\\left(r,\\theta,z \\right)} & \\sigma_{\\theta z}{\\left(r,\\theta,z \\right)}\\\\\\sigma_{zr}{\\left(r,\\theta,z \\right)} & \\sigma_{\\theta z}{\\left(r,\\theta,z \\right)} & \\sigma_{zz}{\\left(r,\\theta,z \\right)}\\end{matrix}\\right]$"
      ],
      "text/plain": [
       "Matrix([\n",
       "[     \\sigma_{rr}(r, theta, z),      \\sigma_{r\\theta}(r, theta, z),       \\sigma_{zr}(r, theta, z)],\n",
       "[\\sigma_{r\\theta}(r, theta, z), \\sigma_{\\theta\\theta}(r, theta, z), \\sigma_{\\theta z}(r, theta, z)],\n",
       "[     \\sigma_{zr}(r, theta, z),     \\sigma_{\\theta z}(r, theta, z),       \\sigma_{zz}(r, theta, z)]])"
      ]
     },
     "metadata": {},
     "output_type": "display_data"
    }
   ],
   "source": [
    "sigmarr = sym.Function(r'\\sigma_{rr}')(r,theta,z)\n",
    "sigmatt = sym.Function(r'\\sigma_{\\theta\\theta}')(r,theta,z)\n",
    "sigmazz = sym.Function(r'\\sigma_{zz}')(r,theta,z)\n",
    "sigmart = sym.Function(r'\\sigma_{r\\theta}')(r,theta,z)\n",
    "sigmazr = sym.Function(r'\\sigma_{zr}')(r,theta,z)\n",
    "sigmatz = sym.Function(r'\\sigma_{\\theta z}')(r,theta,z)\n",
    "#display(sigmarr,sigmatt, sigmart)\n",
    "stress_cyl = sym.Matrix([[sigmarr, sigmart, sigmazr],[sigmart, sigmatt, sigmatz],[sigmazr, sigmatz, sigmazz]])\n",
    "display(stress_cyl)"
   ]
  },
  {
   "cell_type": "markdown",
   "metadata": {},
   "source": [
    "We transform from the cylindrical to the Cartesian coordinate system using $\\displaystyle [\\sigma_{\\rm Cart}] = [Q]^{\\sf T}[\\sigma_{\\rm cyl}][Q]$:"
   ]
  },
  {
   "cell_type": "code",
   "execution_count": 5,
   "metadata": {},
   "outputs": [],
   "source": [
    "stress_Cart = (Q.T)*stress_cyl*Q"
   ]
  },
  {
   "cell_type": "markdown",
   "metadata": {},
   "source": [
    "We extract the stress components in the Cartesian system:"
   ]
  },
  {
   "cell_type": "code",
   "execution_count": 6,
   "metadata": {},
   "outputs": [],
   "source": [
    "sigmaxx = stress_Cart[0,0]\n",
    "sigmaxy = stress_Cart[0,1]\n",
    "sigmazx = stress_Cart[0,2]\n",
    "sigmayy = stress_Cart[1,1]\n",
    "sigmayz = stress_Cart[1,2]\n",
    "sigmazz = stress_Cart[2,2]"
   ]
  },
  {
   "cell_type": "markdown",
   "metadata": {},
   "source": [
    "We set up the stress equilibrium equations using these stress components in the Cartesian system, but we consider only the lhs terms. Thus, we consider the components of $\\nabla \\cdot \\sigma_{\\rm Cart}$, where the divergence operator is of course in the Cartesian system:"
   ]
  },
  {
   "cell_type": "code",
   "execution_count": 7,
   "metadata": {},
   "outputs": [],
   "source": [
    "lhs1 = del_delx(sigmaxx) + del_dely(sigmaxy) + del_delz(sigmazx)\n",
    "lhs2 = del_delx(sigmaxy) + del_dely(sigmayy) + del_delz(sigmayz)\n",
    "lhs3 = del_delx(sigmazx) + del_dely(sigmayz) + del_delz(sigmazz)"
   ]
  },
  {
   "cell_type": "markdown",
   "metadata": {},
   "source": [
    "We consider these three lhs terms as the components of a vector, equivalently the elements of a column matrix:"
   ]
  },
  {
   "cell_type": "code",
   "execution_count": 8,
   "metadata": {},
   "outputs": [],
   "source": [
    "div_sigma_Cart = sym.Matrix([lhs1, lhs2, lhs3])"
   ]
  },
  {
   "cell_type": "markdown",
   "metadata": {},
   "source": [
    "The above vector written in the Cartesian system can be easily transformed to the cylindrical system ($\\nabla \\cdot \\sigma_{\\rm cyl}$, where the divergence operator is in the cylindrical system) using $[(\\nabla \\cdot \\sigma_{\\rm cyl})] = [Q][(\\nabla \\cdot \\sigma_{\\rm Cart})]$:"
   ]
  },
  {
   "cell_type": "code",
   "execution_count": 9,
   "metadata": {},
   "outputs": [],
   "source": [
    "div_sigma_cyl = Q*div_sigma_Cart"
   ]
  },
  {
   "cell_type": "markdown",
   "metadata": {},
   "source": [
    "We extract the three components of $\\nabla \\cdot \\sigma_{\\rm cyl}$ giving us the lhs of the stress equilibrium equations in the cylindrical coordinate system:"
   ]
  },
  {
   "cell_type": "code",
   "execution_count": 10,
   "metadata": {},
   "outputs": [
    {
     "data": {
      "text/latex": [
       "$\\displaystyle \\frac{\\partial}{\\partial r} \\sigma_{rr}{\\left(r,\\theta,z \\right)} + \\frac{\\partial}{\\partial z} \\sigma_{zr}{\\left(r,\\theta,z \\right)} - \\frac{\\sigma_{\\theta\\theta}{\\left(r,\\theta,z \\right)}}{r} + \\frac{\\sigma_{rr}{\\left(r,\\theta,z \\right)}}{r} + \\frac{\\frac{\\partial}{\\partial \\theta} \\sigma_{r\\theta}{\\left(r,\\theta,z \\right)}}{r}$"
      ],
      "text/plain": [
       "Derivative(\\sigma_{rr}(r, theta, z), r) + Derivative(\\sigma_{zr}(r, theta, z), z) - \\sigma_{\\theta\\theta}(r, theta, z)/r + \\sigma_{rr}(r, theta, z)/r + Derivative(\\sigma_{r\\theta}(r, theta, z), theta)/r"
      ]
     },
     "metadata": {},
     "output_type": "display_data"
    },
    {
     "data": {
      "text/latex": [
       "$\\displaystyle \\frac{\\partial}{\\partial z} \\sigma_{\\theta z}{\\left(r,\\theta,z \\right)} + \\frac{\\partial}{\\partial r} \\sigma_{r\\theta}{\\left(r,\\theta,z \\right)} + \\frac{2 \\sigma_{r\\theta}{\\left(r,\\theta,z \\right)}}{r} + \\frac{\\frac{\\partial}{\\partial \\theta} \\sigma_{\\theta\\theta}{\\left(r,\\theta,z \\right)}}{r}$"
      ],
      "text/plain": [
       "Derivative(\\sigma_{\\theta z}(r, theta, z), z) + Derivative(\\sigma_{r\\theta}(r, theta, z), r) + 2*\\sigma_{r\\theta}(r, theta, z)/r + Derivative(\\sigma_{\\theta\\theta}(r, theta, z), theta)/r"
      ]
     },
     "metadata": {},
     "output_type": "display_data"
    },
    {
     "data": {
      "text/latex": [
       "$\\displaystyle \\frac{\\partial}{\\partial r} \\sigma_{zr}{\\left(r,\\theta,z \\right)} + \\frac{\\partial}{\\partial z} \\sigma_{zz}{\\left(r,\\theta,z \\right)} + \\frac{\\sigma_{zr}{\\left(r,\\theta,z \\right)}}{r} + \\frac{\\frac{\\partial}{\\partial \\theta} \\sigma_{\\theta z}{\\left(r,\\theta,z \\right)}}{r}$"
      ],
      "text/plain": [
       "Derivative(\\sigma_{zr}(r, theta, z), r) + Derivative(\\sigma_{zz}(r, theta, z), z) + \\sigma_{zr}(r, theta, z)/r + Derivative(\\sigma_{\\theta z}(r, theta, z), theta)/r"
      ]
     },
     "metadata": {},
     "output_type": "display_data"
    }
   ],
   "source": [
    "div_sigma_cyl_r = div_sigma_cyl[0].simplify().expand()\n",
    "div_sigma_cyl_theta = div_sigma_cyl[1].simplify().expand()\n",
    "div_sigma_cyl_z = div_sigma_cyl[2].simplify().expand()\n",
    "\n",
    "display(div_sigma_cyl_r, div_sigma_cyl_theta, div_sigma_cyl_z)"
   ]
  },
  {
   "cell_type": "code",
   "execution_count": null,
   "metadata": {},
   "outputs": [],
   "source": []
  }
 ],
 "metadata": {
  "kernelspec": {
   "display_name": "Python 3",
   "language": "python",
   "name": "python3"
  },
  "language_info": {
   "codemirror_mode": {
    "name": "ipython",
    "version": 3
   },
   "file_extension": ".py",
   "mimetype": "text/x-python",
   "name": "python",
   "nbconvert_exporter": "python",
   "pygments_lexer": "ipython3",
   "version": "3.8.8"
  }
 },
 "nbformat": 4,
 "nbformat_minor": 4
}

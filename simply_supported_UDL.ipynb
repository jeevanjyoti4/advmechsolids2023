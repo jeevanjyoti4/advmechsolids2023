{
 "cells": [
  {
   "cell_type": "code",
   "execution_count": 1,
   "id": "bc30ac5d",
   "metadata": {},
   "outputs": [],
   "source": [
    "import sympy as sym"
   ]
  },
  {
   "cell_type": "code",
   "execution_count": 2,
   "id": "53fb7f1e",
   "metadata": {},
   "outputs": [],
   "source": [
    "x, y = sym.symbols('x, y')"
   ]
  },
  {
   "cell_type": "code",
   "execution_count": 3,
   "id": "d1806b8d",
   "metadata": {},
   "outputs": [],
   "source": [
    "A20, A11, A02 = sym.symbols('A_20, A_11, A_02')\n",
    "airy2 = A20*x**2 + A11*x*y + A02*y**2"
   ]
  },
  {
   "cell_type": "code",
   "execution_count": 4,
   "id": "ee0243fd",
   "metadata": {},
   "outputs": [],
   "source": [
    "A30, A21, A12, A03 = sym.symbols('A_30, A_21, A_12, A_03')\n",
    "airy3 = A30*x**3 + A21*x**2*y + A12*x*y**2 + A03*y**3"
   ]
  },
  {
   "cell_type": "code",
   "execution_count": 5,
   "id": "421f2b8c",
   "metadata": {},
   "outputs": [],
   "source": [
    "A40, A31, A22, A13, A04 = sym.symbols('A40, A31, A22, A13, A04')\n",
    "airy4 = A40*x**4 + A31*x**3*y + A22*x**2*y**2 + A13*x*y**3 + A04*y**4"
   ]
  },
  {
   "cell_type": "code",
   "execution_count": 6,
   "id": "00e1e8e7",
   "metadata": {},
   "outputs": [],
   "source": [
    "A50, A41, A32, A23, A14, A05 = sym.symbols('A50, A41, A32, A23, A14, A05')\n",
    "airy5 = A50*x**5 + A41*x**4*y + A32*x**3*y**2 + A23*x**2*y**3 + A14*x*y**4 + A05*y**5"
   ]
  },
  {
   "cell_type": "code",
   "execution_count": 7,
   "id": "92a4587f",
   "metadata": {},
   "outputs": [],
   "source": [
    "airy = airy2 + airy3 + airy4 + airy5"
   ]
  },
  {
   "cell_type": "code",
   "execution_count": 8,
   "id": "76a97f80",
   "metadata": {},
   "outputs": [
    {
     "data": {
      "text/latex": [
       "$\\displaystyle A_{04} y^{4} + A_{05} y^{5} + A_{13} x y^{3} + A_{14} x y^{4} + A_{22} x^{2} y^{2} + A_{23} x^{2} y^{3} + A_{31} x^{3} y + A_{32} x^{3} y^{2} + A_{40} x^{4} + A_{41} x^{4} y + A_{50} x^{5} + A_{02} y^{2} + A_{03} y^{3} + A_{11} x y + A_{12} x y^{2} + A_{20} x^{2} + A_{21} x^{2} y + A_{30} x^{3}$"
      ],
      "text/plain": [
       "A04*y**4 + A05*y**5 + A13*x*y**3 + A14*x*y**4 + A22*x**2*y**2 + A23*x**2*y**3 + A31*x**3*y + A32*x**3*y**2 + A40*x**4 + A41*x**4*y + A50*x**5 + A_02*y**2 + A_03*y**3 + A_11*x*y + A_12*x*y**2 + A_20*x**2 + A_21*x**2*y + A_30*x**3"
      ]
     },
     "metadata": {},
     "output_type": "display_data"
    }
   ],
   "source": [
    "display(airy)"
   ]
  },
  {
   "cell_type": "code",
   "execution_count": 9,
   "id": "6aa2d5a0",
   "metadata": {},
   "outputs": [],
   "source": [
    "def laplacian(f):\n",
    "    return sym.diff(f,(x,2)) + sym.diff(f,(y,2))\n",
    "\n",
    "def biharmonic(f):\n",
    "    return laplacian(laplacian(f))"
   ]
  },
  {
   "cell_type": "code",
   "execution_count": 12,
   "id": "9f014a8b",
   "metadata": {},
   "outputs": [
    {
     "data": {
      "text/latex": [
       "$\\displaystyle 24 A_{04} + 120 A_{05} y + 24 A_{14} x + 8 A_{22} + 24 A_{23} y + 24 A_{32} x + 24 A_{40} + 24 A_{41} y + 120 A_{50} x$"
      ],
      "text/plain": [
       "24*A04 + 120*A05*y + 24*A14*x + 8*A22 + 24*A23*y + 24*A32*x + 24*A40 + 24*A41*y + 120*A50*x"
      ]
     },
     "metadata": {},
     "output_type": "display_data"
    }
   ],
   "source": [
    "biharm = (biharmonic(airy)).expand()\n",
    "display(biharm)"
   ]
  },
  {
   "cell_type": "code",
   "execution_count": 11,
   "id": "c598319a",
   "metadata": {},
   "outputs": [
    {
     "data": {
      "text/latex": [
       "$\\displaystyle 24 A_{14} + 24 A_{32} + 120 A_{50}$"
      ],
      "text/plain": [
       "24*A14 + 24*A32 + 120*A50"
      ]
     },
     "metadata": {},
     "output_type": "display_data"
    },
    {
     "data": {
      "text/latex": [
       "$\\displaystyle 120 A_{05} + 24 A_{23} + 24 A_{41}$"
      ],
      "text/plain": [
       "120*A05 + 24*A23 + 24*A41"
      ]
     },
     "metadata": {},
     "output_type": "display_data"
    },
    {
     "data": {
      "text/latex": [
       "$\\displaystyle 24 A_{04} + 8 A_{22} + 24 A_{40}$"
      ],
      "text/plain": [
       "24*A04 + 8*A22 + 24*A40"
      ]
     },
     "metadata": {},
     "output_type": "display_data"
    }
   ],
   "source": [
    "biharm_x = biharm.coeff(x)\n",
    "biharm_y = biharm.coeff(y)\n",
    "biharm_0 = biharm.subs([(x,0),(y,0)])\n",
    "\n",
    "display(biharm_x, biharm_y, biharm_0)"
   ]
  },
  {
   "cell_type": "code",
   "execution_count": 13,
   "id": "bdaa269d",
   "metadata": {},
   "outputs": [
    {
     "data": {
      "text/latex": [
       "$\\displaystyle 24 A_{14} + 24 A_{32} + 120 A_{50} = 0$"
      ],
      "text/plain": [
       "Eq(24*A14 + 24*A32 + 120*A50, 0)"
      ]
     },
     "metadata": {},
     "output_type": "display_data"
    },
    {
     "data": {
      "text/latex": [
       "$\\displaystyle 120 A_{05} + 24 A_{23} + 24 A_{41} = 0$"
      ],
      "text/plain": [
       "Eq(120*A05 + 24*A23 + 24*A41, 0)"
      ]
     },
     "metadata": {},
     "output_type": "display_data"
    },
    {
     "data": {
      "text/latex": [
       "$\\displaystyle 24 A_{04} + 8 A_{22} + 24 A_{40} = 0$"
      ],
      "text/plain": [
       "Eq(24*A04 + 8*A22 + 24*A40, 0)"
      ]
     },
     "metadata": {},
     "output_type": "display_data"
    }
   ],
   "source": [
    "cond1 = sym.Eq(biharm_x, 0)\n",
    "cond2 = sym.Eq(biharm_y, 0)\n",
    "cond3 = sym.Eq(biharm_0, 0)\n",
    "display(cond1, cond2, cond3)"
   ]
  },
  {
   "cell_type": "code",
   "execution_count": 16,
   "id": "cd1089a9",
   "metadata": {},
   "outputs": [
    {
     "data": {
      "text/latex": [
       "$\\displaystyle q_{0}$"
      ],
      "text/plain": [
       "q_0"
      ]
     },
     "execution_count": 16,
     "metadata": {},
     "output_type": "execute_result"
    }
   ],
   "source": [
    "h, a, q0 = sym.symbols('h, a, q_0', positive=True)\n",
    "q0"
   ]
  },
  {
   "cell_type": "code",
   "execution_count": 21,
   "id": "0f881d20",
   "metadata": {},
   "outputs": [
    {
     "data": {
      "text/latex": [
       "$\\displaystyle 2 A_{22} y^{2} + 2 A_{23} y^{3} + 6 A_{31} x y + 6 A_{32} x y^{2} + 12 A_{40} x^{2} + 12 A_{41} x^{2} y + 20 A_{50} x^{3} + 2 A_{20} + 2 A_{21} y + 6 A_{30} x$"
      ],
      "text/plain": [
       "2*A22*y**2 + 2*A23*y**3 + 6*A31*x*y + 6*A32*x*y**2 + 12*A40*x**2 + 12*A41*x**2*y + 20*A50*x**3 + 2*A_20 + 2*A_21*y + 6*A_30*x"
      ]
     },
     "metadata": {},
     "output_type": "display_data"
    },
    {
     "data": {
      "text/latex": [
       "$\\displaystyle 12 A_{04} y^{2} + 20 A_{05} y^{3} + 6 A_{13} x y + 12 A_{14} x y^{2} + 2 A_{22} x^{2} + 6 A_{23} x^{2} y + 2 A_{32} x^{3} + 2 A_{02} + 6 A_{03} y + 2 A_{12} x$"
      ],
      "text/plain": [
       "12*A04*y**2 + 20*A05*y**3 + 6*A13*x*y + 12*A14*x*y**2 + 2*A22*x**2 + 6*A23*x**2*y + 2*A32*x**3 + 2*A_02 + 6*A_03*y + 2*A_12*x"
      ]
     },
     "metadata": {},
     "output_type": "display_data"
    },
    {
     "data": {
      "text/latex": [
       "$\\displaystyle - 3 A_{13} y^{2} - 4 A_{14} y^{3} - 4 A_{22} x y - 6 A_{23} x y^{2} - 3 A_{31} x^{2} - 6 A_{32} x^{2} y - 4 A_{41} x^{3} - A_{11} - 2 A_{12} y - 2 A_{21} x$"
      ],
      "text/plain": [
       "-3*A13*y**2 - 4*A14*y**3 - 4*A22*x*y - 6*A23*x*y**2 - 3*A31*x**2 - 6*A32*x**2*y - 4*A41*x**3 - A_11 - 2*A_12*y - 2*A_21*x"
      ]
     },
     "metadata": {},
     "output_type": "display_data"
    }
   ],
   "source": [
    "sigmayy = sym.diff(airy,(x,2)).expand()\n",
    "display(sigmayy)\n",
    "\n",
    "sigmaxx = sym.diff(airy,(y,2)).expand()\n",
    "display(sigmaxx)\n",
    "\n",
    "sigmaxy = -sym.diff(airy,(x,1),(y,1))\n",
    "display(sigmaxy)"
   ]
  },
  {
   "cell_type": "markdown",
   "id": "a3dbf356",
   "metadata": {},
   "source": [
    "At $y = -h$, $\\sigma_{yy} = -q_0$ and $\\sigma_{xy} = 0$"
   ]
  },
  {
   "cell_type": "code",
   "execution_count": 24,
   "id": "2d7ce815",
   "metadata": {},
   "outputs": [
    {
     "data": {
      "text/latex": [
       "$\\displaystyle 2 A_{22} h^{2} - 2 A_{23} h^{3} - 6 A_{31} h x + 6 A_{32} h^{2} x + 12 A_{40} x^{2} - 12 A_{41} h x^{2} + 20 A_{50} x^{3} + 2 A_{20} - 2 A_{21} h + 6 A_{30} x$"
      ],
      "text/plain": [
       "2*A22*h**2 - 2*A23*h**3 - 6*A31*h*x + 6*A32*h**2*x + 12*A40*x**2 - 12*A41*h*x**2 + 20*A50*x**3 + 2*A_20 - 2*A_21*h + 6*A_30*x"
      ]
     },
     "metadata": {},
     "output_type": "display_data"
    },
    {
     "data": {
      "text/latex": [
       "$\\displaystyle - 3 A_{13} h^{2} + 4 A_{14} h^{3} + 4 A_{22} h x - 6 A_{23} h^{2} x - 3 A_{31} x^{2} + 6 A_{32} h x^{2} - 4 A_{41} x^{3} - A_{11} + 2 A_{12} h - 2 A_{21} x$"
      ],
      "text/plain": [
       "-3*A13*h**2 + 4*A14*h**3 + 4*A22*h*x - 6*A23*h**2*x - 3*A31*x**2 + 6*A32*h*x**2 - 4*A41*x**3 - A_11 + 2*A_12*h - 2*A_21*x"
      ]
     },
     "metadata": {},
     "output_type": "display_data"
    }
   ],
   "source": [
    "t1 = sigmayy.subs(y,-h)\n",
    "t2 = sigmaxy.subs(y,-h)\n",
    "display(t1, t2)"
   ]
  },
  {
   "cell_type": "code",
   "execution_count": 25,
   "id": "875906ed",
   "metadata": {},
   "outputs": [
    {
     "data": {
      "text/latex": [
       "$\\displaystyle - 6 A_{31} h + 6 A_{32} h^{2} + 6 A_{30} = 0$"
      ],
      "text/plain": [
       "Eq(-6*A31*h + 6*A32*h**2 + 6*A_30, 0)"
      ]
     },
     "metadata": {},
     "output_type": "display_data"
    },
    {
     "data": {
      "text/latex": [
       "$\\displaystyle 12 A_{40} - 12 A_{41} h = 0$"
      ],
      "text/plain": [
       "Eq(12*A40 - 12*A41*h, 0)"
      ]
     },
     "metadata": {},
     "output_type": "display_data"
    },
    {
     "data": {
      "text/latex": [
       "$\\displaystyle 20 A_{50} = 0$"
      ],
      "text/plain": [
       "Eq(20*A50, 0)"
      ]
     },
     "metadata": {},
     "output_type": "display_data"
    },
    {
     "data": {
      "text/latex": [
       "$\\displaystyle 2 A_{22} h^{2} - 2 A_{23} h^{3} + 2 A_{20} - 2 A_{21} h = - q_{0}$"
      ],
      "text/plain": [
       "Eq(2*A22*h**2 - 2*A23*h**3 + 2*A_20 - 2*A_21*h, -q_0)"
      ]
     },
     "metadata": {},
     "output_type": "display_data"
    }
   ],
   "source": [
    "bc1 = sym.Eq(t1.coeff(x),0)\n",
    "bc2 = sym.Eq(t1.coeff(x**2),0)\n",
    "bc3 = sym.Eq(t1.coeff(x**3),0)\n",
    "bc4 = sym.Eq(t1.subs(x,0),-q0)\n",
    "display(bc1, bc2, bc3, bc4)"
   ]
  },
  {
   "cell_type": "code",
   "execution_count": 27,
   "id": "faa7b791",
   "metadata": {},
   "outputs": [
    {
     "data": {
      "text/latex": [
       "$\\displaystyle 4 A_{22} h - 6 A_{23} h^{2} - 2 A_{21} = 0$"
      ],
      "text/plain": [
       "Eq(4*A22*h - 6*A23*h**2 - 2*A_21, 0)"
      ]
     },
     "metadata": {},
     "output_type": "display_data"
    },
    {
     "data": {
      "text/latex": [
       "$\\displaystyle - 3 A_{31} + 6 A_{32} h = 0$"
      ],
      "text/plain": [
       "Eq(-3*A31 + 6*A32*h, 0)"
      ]
     },
     "metadata": {},
     "output_type": "display_data"
    },
    {
     "data": {
      "text/latex": [
       "$\\displaystyle - 4 A_{41} = 0$"
      ],
      "text/plain": [
       "Eq(-4*A41, 0)"
      ]
     },
     "metadata": {},
     "output_type": "display_data"
    },
    {
     "data": {
      "text/latex": [
       "$\\displaystyle - 3 A_{13} h^{2} + 4 A_{14} h^{3} - A_{11} + 2 A_{12} h = 0$"
      ],
      "text/plain": [
       "Eq(-3*A13*h**2 + 4*A14*h**3 - A_11 + 2*A_12*h, 0)"
      ]
     },
     "metadata": {},
     "output_type": "display_data"
    }
   ],
   "source": [
    "bc5 = sym.Eq(t2.coeff(x),0)\n",
    "bc6 = sym.Eq(t2.coeff(x**2),0)\n",
    "bc7 = sym.Eq(t2.coeff(x**3),0)\n",
    "bc8 = sym.Eq(t2.subs(x,0),0)\n",
    "display(bc5, bc6, bc7, bc8)"
   ]
  },
  {
   "cell_type": "markdown",
   "id": "3ecb9146",
   "metadata": {},
   "source": [
    "At $y = h$, $\\sigma_{yy} = 0$ and $\\sigma_{xy} = 0$."
   ]
  },
  {
   "cell_type": "code",
   "execution_count": 29,
   "id": "2a41a0ae",
   "metadata": {},
   "outputs": [
    {
     "data": {
      "text/latex": [
       "$\\displaystyle 2 A_{22} h^{2} + 2 A_{23} h^{3} + 6 A_{31} h x + 6 A_{32} h^{2} x + 12 A_{40} x^{2} + 12 A_{41} h x^{2} + 20 A_{50} x^{3} + 2 A_{20} + 2 A_{21} h + 6 A_{30} x$"
      ],
      "text/plain": [
       "2*A22*h**2 + 2*A23*h**3 + 6*A31*h*x + 6*A32*h**2*x + 12*A40*x**2 + 12*A41*h*x**2 + 20*A50*x**3 + 2*A_20 + 2*A_21*h + 6*A_30*x"
      ]
     },
     "metadata": {},
     "output_type": "display_data"
    },
    {
     "data": {
      "text/latex": [
       "$\\displaystyle - 3 A_{13} h^{2} - 4 A_{14} h^{3} - 4 A_{22} h x - 6 A_{23} h^{2} x - 3 A_{31} x^{2} - 6 A_{32} h x^{2} - 4 A_{41} x^{3} - A_{11} - 2 A_{12} h - 2 A_{21} x$"
      ],
      "text/plain": [
       "-3*A13*h**2 - 4*A14*h**3 - 4*A22*h*x - 6*A23*h**2*x - 3*A31*x**2 - 6*A32*h*x**2 - 4*A41*x**3 - A_11 - 2*A_12*h - 2*A_21*x"
      ]
     },
     "metadata": {},
     "output_type": "display_data"
    }
   ],
   "source": [
    "t3 = sigmayy.subs(y,h)\n",
    "t4 = sigmaxy.subs(y,h)\n",
    "display(t3, t4)"
   ]
  },
  {
   "cell_type": "code",
   "execution_count": 31,
   "id": "8361abcd",
   "metadata": {},
   "outputs": [
    {
     "data": {
      "text/latex": [
       "$\\displaystyle 6 A_{31} h + 6 A_{32} h^{2} + 6 A_{30} = 0$"
      ],
      "text/plain": [
       "Eq(6*A31*h + 6*A32*h**2 + 6*A_30, 0)"
      ]
     },
     "metadata": {},
     "output_type": "display_data"
    },
    {
     "data": {
      "text/latex": [
       "$\\displaystyle 12 A_{40} + 12 A_{41} h = 0$"
      ],
      "text/plain": [
       "Eq(12*A40 + 12*A41*h, 0)"
      ]
     },
     "metadata": {},
     "output_type": "display_data"
    },
    {
     "data": {
      "text/latex": [
       "$\\displaystyle 20 A_{50} = 0$"
      ],
      "text/plain": [
       "Eq(20*A50, 0)"
      ]
     },
     "metadata": {},
     "output_type": "display_data"
    },
    {
     "data": {
      "text/latex": [
       "$\\displaystyle 2 A_{22} h^{2} + 2 A_{23} h^{3} + 2 A_{20} + 2 A_{21} h = 0$"
      ],
      "text/plain": [
       "Eq(2*A22*h**2 + 2*A23*h**3 + 2*A_20 + 2*A_21*h, 0)"
      ]
     },
     "metadata": {},
     "output_type": "display_data"
    }
   ],
   "source": [
    "bc9 = sym.Eq(t3.coeff(x),0)\n",
    "bc10 = sym.Eq(t3.coeff(x**2),0)\n",
    "bc11 = sym.Eq(t3.coeff(x**3),0)\n",
    "bc12 = sym.Eq(t3.subs(x,0),0)\n",
    "display(bc9, bc10, bc11, bc12)"
   ]
  },
  {
   "cell_type": "code",
   "execution_count": 32,
   "id": "a4dcd385",
   "metadata": {},
   "outputs": [
    {
     "data": {
      "text/latex": [
       "$\\displaystyle - 4 A_{22} h - 6 A_{23} h^{2} - 2 A_{21} = 0$"
      ],
      "text/plain": [
       "Eq(-4*A22*h - 6*A23*h**2 - 2*A_21, 0)"
      ]
     },
     "metadata": {},
     "output_type": "display_data"
    },
    {
     "data": {
      "text/latex": [
       "$\\displaystyle - 3 A_{31} - 6 A_{32} h = 0$"
      ],
      "text/plain": [
       "Eq(-3*A31 - 6*A32*h, 0)"
      ]
     },
     "metadata": {},
     "output_type": "display_data"
    },
    {
     "data": {
      "text/latex": [
       "$\\displaystyle - 4 A_{41} = 0$"
      ],
      "text/plain": [
       "Eq(-4*A41, 0)"
      ]
     },
     "metadata": {},
     "output_type": "display_data"
    },
    {
     "data": {
      "text/latex": [
       "$\\displaystyle - 3 A_{13} h^{2} - 4 A_{14} h^{3} - A_{11} - 2 A_{12} h = 0$"
      ],
      "text/plain": [
       "Eq(-3*A13*h**2 - 4*A14*h**3 - A_11 - 2*A_12*h, 0)"
      ]
     },
     "metadata": {},
     "output_type": "display_data"
    }
   ],
   "source": [
    "bc13 = sym.Eq(t4.coeff(x),0)\n",
    "bc14 = sym.Eq(t4.coeff(x**2),0)\n",
    "bc15 = sym.Eq(t4.coeff(x**3),0)\n",
    "bc16 = sym.Eq(t4.subs(x,0),0)\n",
    "display(bc13, bc14, bc15, bc16)"
   ]
  },
  {
   "cell_type": "markdown",
   "id": "ba58f839",
   "metadata": {},
   "source": [
    "At $x=a$, we have:\n",
    "\\begin{align*}\n",
    "    \\int_{y=-h}^{y=h} \\sigma_{xx}(x=a) {\\rm d} y = 0, \\\\\n",
    "    \\int_{y=-h}^{y=h} y\\sigma_{xx}(x=a) {\\rm d} y = 0, \\\\\n",
    "    \\int_{y=-h}^{y=h} \\sigma_{xy}(x=a) {\\rm d} y = -q_0a \n",
    "\\end{align*}"
   ]
  },
  {
   "cell_type": "code",
   "execution_count": 33,
   "id": "179cbaba",
   "metadata": {},
   "outputs": [
    {
     "data": {
      "text/latex": [
       "$\\displaystyle 12 A_{04} y^{2} + 20 A_{05} y^{3} + 6 A_{13} a y + 12 A_{14} a y^{2} + 2 A_{22} a^{2} + 6 A_{23} a^{2} y + 2 A_{32} a^{3} + 2 A_{02} + 6 A_{03} y + 2 A_{12} a$"
      ],
      "text/plain": [
       "12*A04*y**2 + 20*A05*y**3 + 6*A13*a*y + 12*A14*a*y**2 + 2*A22*a**2 + 6*A23*a**2*y + 2*A32*a**3 + 2*A_02 + 6*A_03*y + 2*A_12*a"
      ]
     },
     "metadata": {},
     "output_type": "display_data"
    },
    {
     "data": {
      "text/latex": [
       "$\\displaystyle - 3 A_{13} y^{2} - 4 A_{14} y^{3} - 4 A_{22} a y - 6 A_{23} a y^{2} - 3 A_{31} a^{2} - 6 A_{32} a^{2} y - 4 A_{41} a^{3} - A_{11} - 2 A_{12} y - 2 A_{21} a$"
      ],
      "text/plain": [
       "-3*A13*y**2 - 4*A14*y**3 - 4*A22*a*y - 6*A23*a*y**2 - 3*A31*a**2 - 6*A32*a**2*y - 4*A41*a**3 - A_11 - 2*A_12*y - 2*A_21*a"
      ]
     },
     "metadata": {},
     "output_type": "display_data"
    }
   ],
   "source": [
    "t5 = sigmaxx.subs(x,a)\n",
    "t6 = sigmaxy.subs(x,a)\n",
    "display(t5,t6)"
   ]
  },
  {
   "cell_type": "code",
   "execution_count": 35,
   "id": "aad2ed23",
   "metadata": {},
   "outputs": [
    {
     "data": {
      "text/latex": [
       "$\\displaystyle 8 A_{04} h^{3} + 8 A_{14} a h^{3} + 4 A_{22} a^{2} h + 4 A_{32} a^{3} h + 4 A_{02} h + 4 A_{12} a h$"
      ],
      "text/plain": [
       "8*A04*h**3 + 8*A14*a*h**3 + 4*A22*a**2*h + 4*A32*a**3*h + 4*A_02*h + 4*A_12*a*h"
      ]
     },
     "metadata": {},
     "output_type": "display_data"
    }
   ],
   "source": [
    "Fx1 = sym.integrate(t5,(y,-h,h)).expand()\n",
    "display(Fx1)"
   ]
  },
  {
   "cell_type": "code",
   "execution_count": 36,
   "id": "3f1ba331",
   "metadata": {},
   "outputs": [
    {
     "data": {
      "text/latex": [
       "$\\displaystyle 8 A_{05} h^{5} + 4 A_{13} a h^{3} + 4 A_{23} a^{2} h^{3} + 4 A_{03} h^{3}$"
      ],
      "text/plain": [
       "8*A05*h**5 + 4*A13*a*h**3 + 4*A23*a**2*h**3 + 4*A_03*h**3"
      ]
     },
     "metadata": {},
     "output_type": "display_data"
    }
   ],
   "source": [
    "M1 = sym.integrate(y*t5,(y,-h,h)).expand()\n",
    "display(M1)"
   ]
  },
  {
   "cell_type": "code",
   "execution_count": 38,
   "id": "3661623d",
   "metadata": {},
   "outputs": [
    {
     "data": {
      "text/latex": [
       "$\\displaystyle - 2 A_{13} h^{3} - 4 A_{23} a h^{3} - 6 A_{31} a^{2} h - 8 A_{41} a^{3} h - 2 A_{11} h - 4 A_{21} a h$"
      ],
      "text/plain": [
       "-2*A13*h**3 - 4*A23*a*h**3 - 6*A31*a**2*h - 8*A41*a**3*h - 2*A_11*h - 4*A_21*a*h"
      ]
     },
     "metadata": {},
     "output_type": "display_data"
    }
   ],
   "source": [
    "V1 = sym.integrate(t6,(y,-h,h)).expand()\n",
    "display(V1)"
   ]
  },
  {
   "cell_type": "code",
   "execution_count": 40,
   "id": "adf05e67",
   "metadata": {},
   "outputs": [
    {
     "data": {
      "text/latex": [
       "$\\displaystyle 8 A_{04} h^{3} + 8 A_{14} a h^{3} + 4 A_{22} a^{2} h + 4 A_{32} a^{3} h + 4 A_{02} h + 4 A_{12} a h = 0$"
      ],
      "text/plain": [
       "Eq(8*A04*h**3 + 8*A14*a*h**3 + 4*A22*a**2*h + 4*A32*a**3*h + 4*A_02*h + 4*A_12*a*h, 0)"
      ]
     },
     "metadata": {},
     "output_type": "display_data"
    },
    {
     "data": {
      "text/latex": [
       "$\\displaystyle 8 A_{05} h^{5} + 4 A_{13} a h^{3} + 4 A_{23} a^{2} h^{3} + 4 A_{03} h^{3} = 0$"
      ],
      "text/plain": [
       "Eq(8*A05*h**5 + 4*A13*a*h**3 + 4*A23*a**2*h**3 + 4*A_03*h**3, 0)"
      ]
     },
     "metadata": {},
     "output_type": "display_data"
    },
    {
     "data": {
      "text/latex": [
       "$\\displaystyle - 2 A_{13} h^{3} - 4 A_{23} a h^{3} - 6 A_{31} a^{2} h - 8 A_{41} a^{3} h - 2 A_{11} h - 4 A_{21} a h = - a q_{0}$"
      ],
      "text/plain": [
       "Eq(-2*A13*h**3 - 4*A23*a*h**3 - 6*A31*a**2*h - 8*A41*a**3*h - 2*A_11*h - 4*A_21*a*h, -a*q_0)"
      ]
     },
     "metadata": {},
     "output_type": "display_data"
    }
   ],
   "source": [
    "bc17 = sym.Eq(Fx1,0)\n",
    "bc18 = sym.Eq(M1,0)\n",
    "bc19 = sym.Eq(V1,-q0*a)\n",
    "display(bc17, bc18, bc19)"
   ]
  },
  {
   "cell_type": "markdown",
   "id": "0ebd7135",
   "metadata": {},
   "source": [
    "At $x=-a$, we have:\n",
    "\\begin{align*}\n",
    "    \\int_{y=-h}^{y=h} \\sigma_{xx}(x=-a) {\\rm d} y = 0, \\\\\n",
    "    \\int_{y=-h}^{y=h} y\\sigma_{xx}(x=-a) {\\rm d} y = 0, \\\\\n",
    "    \\int_{y=-h}^{y=h} \\sigma_{xy}(x=-a) {\\rm d} y = q_0a \n",
    "\\end{align*}"
   ]
  },
  {
   "cell_type": "code",
   "execution_count": 41,
   "id": "562e18cf",
   "metadata": {},
   "outputs": [
    {
     "data": {
      "text/latex": [
       "$\\displaystyle 12 A_{04} y^{2} + 20 A_{05} y^{3} - 6 A_{13} a y - 12 A_{14} a y^{2} + 2 A_{22} a^{2} + 6 A_{23} a^{2} y - 2 A_{32} a^{3} + 2 A_{02} + 6 A_{03} y - 2 A_{12} a$"
      ],
      "text/plain": [
       "12*A04*y**2 + 20*A05*y**3 - 6*A13*a*y - 12*A14*a*y**2 + 2*A22*a**2 + 6*A23*a**2*y - 2*A32*a**3 + 2*A_02 + 6*A_03*y - 2*A_12*a"
      ]
     },
     "metadata": {},
     "output_type": "display_data"
    },
    {
     "data": {
      "text/latex": [
       "$\\displaystyle - 3 A_{13} y^{2} - 4 A_{14} y^{3} + 4 A_{22} a y + 6 A_{23} a y^{2} - 3 A_{31} a^{2} - 6 A_{32} a^{2} y + 4 A_{41} a^{3} - A_{11} - 2 A_{12} y + 2 A_{21} a$"
      ],
      "text/plain": [
       "-3*A13*y**2 - 4*A14*y**3 + 4*A22*a*y + 6*A23*a*y**2 - 3*A31*a**2 - 6*A32*a**2*y + 4*A41*a**3 - A_11 - 2*A_12*y + 2*A_21*a"
      ]
     },
     "metadata": {},
     "output_type": "display_data"
    }
   ],
   "source": [
    "t7 = sigmaxx.subs(x,-a)\n",
    "t8 = sigmaxy.subs(x,-a)\n",
    "display(t7,t8)"
   ]
  },
  {
   "cell_type": "code",
   "execution_count": 42,
   "id": "99a81ab2",
   "metadata": {},
   "outputs": [
    {
     "data": {
      "text/latex": [
       "$\\displaystyle 8 A_{04} h^{3} - 8 A_{14} a h^{3} + 4 A_{22} a^{2} h - 4 A_{32} a^{3} h + 4 A_{02} h - 4 A_{12} a h$"
      ],
      "text/plain": [
       "8*A04*h**3 - 8*A14*a*h**3 + 4*A22*a**2*h - 4*A32*a**3*h + 4*A_02*h - 4*A_12*a*h"
      ]
     },
     "metadata": {},
     "output_type": "display_data"
    }
   ],
   "source": [
    "Fx2 = sym.integrate(t7,(y,-h,h)).expand()\n",
    "display(Fx2)"
   ]
  },
  {
   "cell_type": "code",
   "execution_count": 44,
   "id": "3922e207",
   "metadata": {},
   "outputs": [
    {
     "data": {
      "text/latex": [
       "$\\displaystyle 8 A_{05} h^{5} - 4 A_{13} a h^{3} + 4 A_{23} a^{2} h^{3} + 4 A_{03} h^{3}$"
      ],
      "text/plain": [
       "8*A05*h**5 - 4*A13*a*h**3 + 4*A23*a**2*h**3 + 4*A_03*h**3"
      ]
     },
     "metadata": {},
     "output_type": "display_data"
    }
   ],
   "source": [
    "M2 = sym.integrate(y*t7,(y,-h,h)).expand()\n",
    "display(M2)"
   ]
  },
  {
   "cell_type": "code",
   "execution_count": 46,
   "id": "c509fe7a",
   "metadata": {},
   "outputs": [
    {
     "data": {
      "text/latex": [
       "$\\displaystyle - 2 A_{13} h^{3} + 4 A_{23} a h^{3} - 6 A_{31} a^{2} h + 8 A_{41} a^{3} h - 2 A_{11} h + 4 A_{21} a h$"
      ],
      "text/plain": [
       "-2*A13*h**3 + 4*A23*a*h**3 - 6*A31*a**2*h + 8*A41*a**3*h - 2*A_11*h + 4*A_21*a*h"
      ]
     },
     "metadata": {},
     "output_type": "display_data"
    }
   ],
   "source": [
    "V2 = sym.integrate(t8,(y,-h,h)).expand()\n",
    "display(V2)"
   ]
  },
  {
   "cell_type": "code",
   "execution_count": 47,
   "id": "79ef7f1e",
   "metadata": {},
   "outputs": [
    {
     "data": {
      "text/latex": [
       "$\\displaystyle 8 A_{04} h^{3} - 8 A_{14} a h^{3} + 4 A_{22} a^{2} h - 4 A_{32} a^{3} h + 4 A_{02} h - 4 A_{12} a h = 0$"
      ],
      "text/plain": [
       "Eq(8*A04*h**3 - 8*A14*a*h**3 + 4*A22*a**2*h - 4*A32*a**3*h + 4*A_02*h - 4*A_12*a*h, 0)"
      ]
     },
     "metadata": {},
     "output_type": "display_data"
    },
    {
     "data": {
      "text/latex": [
       "$\\displaystyle 8 A_{05} h^{5} - 4 A_{13} a h^{3} + 4 A_{23} a^{2} h^{3} + 4 A_{03} h^{3} = 0$"
      ],
      "text/plain": [
       "Eq(8*A05*h**5 - 4*A13*a*h**3 + 4*A23*a**2*h**3 + 4*A_03*h**3, 0)"
      ]
     },
     "metadata": {},
     "output_type": "display_data"
    },
    {
     "data": {
      "text/latex": [
       "$\\displaystyle - 2 A_{13} h^{3} + 4 A_{23} a h^{3} - 6 A_{31} a^{2} h + 8 A_{41} a^{3} h - 2 A_{11} h + 4 A_{21} a h = a q_{0}$"
      ],
      "text/plain": [
       "Eq(-2*A13*h**3 + 4*A23*a*h**3 - 6*A31*a**2*h + 8*A41*a**3*h - 2*A_11*h + 4*A_21*a*h, a*q_0)"
      ]
     },
     "metadata": {},
     "output_type": "display_data"
    }
   ],
   "source": [
    "bc20 = sym.Eq(Fx2,0)\n",
    "bc21 = sym.Eq(M2,0)\n",
    "bc22 = sym.Eq(V2,q0*a)\n",
    "display(bc20, bc21, bc22)"
   ]
  },
  {
   "cell_type": "code",
   "execution_count": 50,
   "id": "5847f5af",
   "metadata": {},
   "outputs": [
    {
     "data": {
      "text/plain": [
       "[Eq(24*A14 + 24*A32 + 120*A50, 0),\n",
       " Eq(120*A05 + 24*A23 + 24*A41, 0),\n",
       " Eq(24*A04 + 8*A22 + 24*A40, 0),\n",
       " Eq(-6*A31*h + 6*A32*h**2 + 6*A_30, 0),\n",
       " Eq(12*A40 - 12*A41*h, 0),\n",
       " Eq(20*A50, 0),\n",
       " Eq(2*A22*h**2 - 2*A23*h**3 + 2*A_20 - 2*A_21*h, -q_0),\n",
       " Eq(4*A22*h - 6*A23*h**2 - 2*A_21, 0),\n",
       " Eq(-3*A31 + 6*A32*h, 0),\n",
       " Eq(-4*A41, 0),\n",
       " Eq(-3*A13*h**2 + 4*A14*h**3 - A_11 + 2*A_12*h, 0),\n",
       " Eq(6*A31*h + 6*A32*h**2 + 6*A_30, 0),\n",
       " Eq(12*A40 + 12*A41*h, 0),\n",
       " Eq(20*A50, 0),\n",
       " Eq(2*A22*h**2 + 2*A23*h**3 + 2*A_20 + 2*A_21*h, 0),\n",
       " Eq(-4*A22*h - 6*A23*h**2 - 2*A_21, 0),\n",
       " Eq(-3*A31 - 6*A32*h, 0),\n",
       " Eq(-4*A41, 0),\n",
       " Eq(-3*A13*h**2 - 4*A14*h**3 - A_11 - 2*A_12*h, 0),\n",
       " Eq(8*A04*h**3 + 8*A14*a*h**3 + 4*A22*a**2*h + 4*A32*a**3*h + 4*A_02*h + 4*A_12*a*h, 0),\n",
       " Eq(8*A05*h**5 + 4*A13*a*h**3 + 4*A23*a**2*h**3 + 4*A_03*h**3, 0),\n",
       " Eq(-2*A13*h**3 - 4*A23*a*h**3 - 6*A31*a**2*h - 8*A41*a**3*h - 2*A_11*h - 4*A_21*a*h, -a*q_0),\n",
       " Eq(8*A04*h**3 - 8*A14*a*h**3 + 4*A22*a**2*h - 4*A32*a**3*h + 4*A_02*h - 4*A_12*a*h, 0),\n",
       " Eq(8*A05*h**5 - 4*A13*a*h**3 + 4*A23*a**2*h**3 + 4*A_03*h**3, 0),\n",
       " Eq(-2*A13*h**3 + 4*A23*a*h**3 - 6*A31*a**2*h + 8*A41*a**3*h - 2*A_11*h + 4*A_21*a*h, a*q_0)]"
      ]
     },
     "metadata": {},
     "output_type": "display_data"
    }
   ],
   "source": [
    "eq_list = list([cond1, cond2, cond3, bc1, bc2, bc3, bc4, bc5, bc6, bc7, bc8, bc9,\\\n",
    "               bc10, bc11, bc12, bc13, bc14, bc15, bc16, bc17, bc18, bc19, bc20, bc21, bc22])\n",
    "display(eq_list)"
   ]
  },
  {
   "cell_type": "code",
   "execution_count": 51,
   "id": "a5b579cf",
   "metadata": {},
   "outputs": [
    {
     "data": {
      "text/plain": [
       "[A_20,\n",
       " A_11,\n",
       " A_02,\n",
       " A_30,\n",
       " A_21,\n",
       " A_12,\n",
       " A_03,\n",
       " A40,\n",
       " A31,\n",
       " A22,\n",
       " A13,\n",
       " A04,\n",
       " A50,\n",
       " A41,\n",
       " A32,\n",
       " A23,\n",
       " A14,\n",
       " A05]"
      ]
     },
     "metadata": {},
     "output_type": "display_data"
    }
   ],
   "source": [
    "unknowns_list = list([A20, A11, A02, A30, A21, A12, A03, A40, A31, A22, A13, A04, A50, A41, A32, A23, A14, A05])\n",
    "display(unknowns_list)"
   ]
  },
  {
   "cell_type": "code",
   "execution_count": 56,
   "id": "7ef62c36",
   "metadata": {},
   "outputs": [
    {
     "data": {
      "text/plain": [
       "{A_20: -q_0/4,\n",
       " A_11: 0,\n",
       " A_02: 0,\n",
       " A_30: 0,\n",
       " A_21: 3*q_0/(8*h),\n",
       " A_12: 0,\n",
       " A_03: (5*a**2*q_0 - 2*h**2*q_0)/(40*h**3),\n",
       " A40: 0,\n",
       " A31: 0,\n",
       " A22: 0,\n",
       " A13: 0,\n",
       " A04: 0,\n",
       " A50: 0,\n",
       " A41: 0,\n",
       " A32: 0,\n",
       " A23: -q_0/(8*h**3),\n",
       " A14: 0,\n",
       " A05: q_0/(40*h**3)}"
      ]
     },
     "metadata": {},
     "output_type": "display_data"
    }
   ],
   "source": [
    "soln = sym.solve(eq_list, unknowns_list)\n",
    "display(soln)"
   ]
  },
  {
   "cell_type": "code",
   "execution_count": 61,
   "id": "dc1654c0",
   "metadata": {},
   "outputs": [
    {
     "data": {
      "text/latex": [
       "$\\displaystyle - \\frac{3 q_{0} x^{2} y}{4 h^{3}} + \\frac{q_{0} y^{3}}{2 h^{3}} + \\frac{3 y \\left(5 a^{2} q_{0} - 2 h^{2} q_{0}\\right)}{20 h^{3}}$"
      ],
      "text/plain": [
       "-3*q_0*x**2*y/(4*h**3) + q_0*y**3/(2*h**3) + 3*y*(5*a**2*q_0 - 2*h**2*q_0)/(20*h**3)"
      ]
     },
     "metadata": {},
     "output_type": "display_data"
    }
   ],
   "source": [
    "sigmaxx_soln = sigmaxx.subs(soln)\n",
    "display(sigmaxx_soln)"
   ]
  },
  {
   "cell_type": "code",
   "execution_count": 58,
   "id": "ad5d7f53",
   "metadata": {},
   "outputs": [
    {
     "data": {
      "text/latex": [
       "$\\displaystyle - \\frac{q_{0}}{2} + \\frac{3 q_{0} y}{4 h} - \\frac{q_{0} y^{3}}{4 h^{3}}$"
      ],
      "text/plain": [
       "-q_0/2 + 3*q_0*y/(4*h) - q_0*y**3/(4*h**3)"
      ]
     },
     "execution_count": 58,
     "metadata": {},
     "output_type": "execute_result"
    }
   ],
   "source": [
    "sigmayy.subs(soln)"
   ]
  },
  {
   "cell_type": "code",
   "execution_count": 59,
   "id": "4d279389",
   "metadata": {},
   "outputs": [
    {
     "data": {
      "text/latex": [
       "$\\displaystyle - \\frac{3 q_{0} x}{4 h} + \\frac{3 q_{0} x y^{2}}{4 h^{3}}$"
      ],
      "text/plain": [
       "-3*q_0*x/(4*h) + 3*q_0*x*y**2/(4*h**3)"
      ]
     },
     "execution_count": 59,
     "metadata": {},
     "output_type": "execute_result"
    }
   ],
   "source": [
    "sigmaxy.subs(soln)"
   ]
  },
  {
   "cell_type": "code",
   "execution_count": null,
   "id": "910e3d19",
   "metadata": {},
   "outputs": [],
   "source": []
  }
 ],
 "metadata": {
  "kernelspec": {
   "display_name": "Python 3 (ipykernel)",
   "language": "python",
   "name": "python3"
  },
  "language_info": {
   "codemirror_mode": {
    "name": "ipython",
    "version": 3
   },
   "file_extension": ".py",
   "mimetype": "text/x-python",
   "name": "python",
   "nbconvert_exporter": "python",
   "pygments_lexer": "ipython3",
   "version": "3.9.7"
  }
 },
 "nbformat": 4,
 "nbformat_minor": 5
}
